{
 "cells": [
  {
   "cell_type": "markdown",
   "id": "1ada02f0",
   "metadata": {},
   "source": [
    "# Installing and Importing Visualization Libraries"
   ]
  },
  {
   "cell_type": "code",
   "execution_count": 1,
   "id": "a8705ab1",
   "metadata": {},
   "outputs": [
    {
     "name": "stdout",
     "output_type": "stream",
     "text": [
      "Collecting package metadata (current_repodata.json): ...working... done\n",
      "Solving environment: ...working... done\n",
      "\n",
      "# All requested packages already installed.\n",
      "\n",
      "\n",
      "Note: you may need to restart the kernel to use updated packages.\n"
     ]
    }
   ],
   "source": [
    "conda install seaborn matplotlib scipy"
   ]
  },
  {
   "cell_type": "code",
   "execution_count": 2,
   "id": "1688c6cb",
   "metadata": {},
   "outputs": [],
   "source": [
    "import pandas as pd\n",
    "import numpy as np\n",
    "import os\n",
    "import matplotlib.pyplot as plt\n",
    "import seaborn as sns\n",
    "import scipy"
   ]
  },
  {
   "cell_type": "markdown",
   "id": "3650e996",
   "metadata": {},
   "source": [
    "# Import data"
   ]
  },
  {
   "cell_type": "code",
   "execution_count": 3,
   "id": "170028d4",
   "metadata": {},
   "outputs": [],
   "source": [
    "path = r'C:\\Users\\s.wienecke\\Documents\\Fortbildung\\Instacart Basket Analysis'"
   ]
  },
  {
   "cell_type": "code",
   "execution_count": 4,
   "id": "7e791300",
   "metadata": {},
   "outputs": [],
   "source": [
    "# ords_prods_merge3 stands for orders_products_merged_with_frequency_columns2.pkl\n",
    "ords_prods_merge3 = pd.read_pickle(os.path.join(path, '02 Data', 'Prepared Data', 'orders_products_merged_with_frequency_columns2.pkl'))"
   ]
  },
  {
   "cell_type": "markdown",
   "id": "c1a2345d",
   "metadata": {},
   "source": [
    "# Creating Bar Charts"
   ]
  },
  {
   "cell_type": "code",
   "execution_count": 7,
   "id": "5cc7b35b",
   "metadata": {},
   "outputs": [
    {
     "data": {
      "text/plain": [
       "<AxesSubplot:>"
      ]
     },
     "execution_count": 7,
     "metadata": {},
     "output_type": "execute_result"
    },
    {
     "data": {
      "image/png": "[encoded data removed]",
      "text/plain": [
       "<Figure size 432x288 with 1 Axes>"
      ]
     },
     "metadata": {
      "needs_background": "light"
     },
     "output_type": "display_data"
    }
   ],
   "source": [
    "# bar chart with observations are ordered from largest to smallest\n",
    "ords_prods_merge3['orders_day_of_week'].value_counts().plot.bar()"
   ]
  },
  {
   "cell_type": "code",
   "execution_count": 8,
   "id": "ba0128dc",
   "metadata": {},
   "outputs": [
    {
     "data": {
      "text/plain": [
       "<AxesSubplot:>"
      ]
     },
     "execution_count": 8,
     "metadata": {},
     "output_type": "execute_result"
    },
    {
     "data": {
      "image/png": "[encoded data removed]",
      "text/plain": [
       "<Figure size 432x288 with 1 Axes>"
      ]
     },
     "metadata": {
      "needs_background": "light"
     },
     "output_type": "display_data"
    }
   ],
   "source": [
    "# bar chart with no order\n",
    "ords_prods_merge3['orders_day_of_week'].value_counts().sort_index().plot.bar()"
   ]
  },
  {
   "cell_type": "code",
   "execution_count": 9,
   "id": "7c073fc8",
   "metadata": {},
   "outputs": [
    {
     "data": {
      "text/plain": [
       "<AxesSubplot:>"
      ]
     },
     "execution_count": 9,
     "metadata": {},
     "output_type": "execute_result"
    },
    {
     "data": {
      "image/png": "[encoded data removed]",
      "text/plain": [
       "<Figure size 432x288 with 1 Axes>"
      ]
     },
     "metadata": {
      "needs_background": "light"
     },
     "output_type": "display_data"
    }
   ],
   "source": [
    "# using colors for the plot bar\n",
    "ords_prods_merge3['orders_day_of_week'].value_counts().plot.bar(color =['purple', 'red', 'pink', 'orange', 'yellow', 'green', 'blue'])"
   ]
  },
  {
   "cell_type": "markdown",
   "id": "1ef79160",
   "metadata": {},
   "source": [
    "# Exporting Charts"
   ]
  },
  {
   "cell_type": "code",
   "execution_count": 10,
   "id": "d21ae51d",
   "metadata": {},
   "outputs": [
    {
     "data": {
      "image/png": "[encoded data removed]",
      "text/plain": [
       "<Figure size 432x288 with 1 Axes>"
      ]
     },
     "metadata": {
      "needs_background": "light"
     },
     "output_type": "display_data"
    }
   ],
   "source": [
    "# save within bar object\n",
    "bar = ords_prods_merge3['orders_day_of_week'].value_counts().plot.bar(color =['purple', 'red', 'pink', 'orange', 'yellow', 'green', 'blue'])"
   ]
  },
  {
   "cell_type": "code",
   "execution_count": 11,
   "id": "0e5e62a6",
   "metadata": {},
   "outputs": [],
   "source": [
    "bar.figure.savefig(os.path.join(path, '04 Analysis','Visualizations', 'bar_orders_dow.png'))"
   ]
  },
  {
   "cell_type": "markdown",
   "id": "1db63298",
   "metadata": {},
   "source": [
    "# Creating Histograms and Scatterplots"
   ]
  },
  {
   "cell_type": "code",
   "execution_count": 14,
   "id": "c18f3fac",
   "metadata": {},
   "outputs": [
    {
     "data": {
      "text/plain": [
       "<AxesSubplot:ylabel='Frequency'>"
      ]
     },
     "execution_count": 14,
     "metadata": {},
     "output_type": "execute_result"
    },
    {
     "data": {
      "image/png": "[encoded data removed]",
      "text/plain": [
       "<Figure size 432x288 with 1 Axes>"
      ]
     },
     "metadata": {
      "needs_background": "light"
     },
     "output_type": "display_data"
    }
   ],
   "source": [
    "# creating a histogram of the “prices” column\n",
    "ords_prods_merge3['prices'].plot.hist(bins = 25)"
   ]
  },
  {
   "cell_type": "markdown",
   "id": "d96fff1b",
   "metadata": {},
   "source": [
    "Something doesn’t seem right here --> You should have gotten 25 bars (one for each bin). Instead, however, you’ve gotten one single column"
   ]
  },
  {
   "cell_type": "code",
   "execution_count": 15,
   "id": "9068b880",
   "metadata": {},
   "outputs": [
    {
     "data": {
      "text/plain": [
       "count    3.032876e+07\n",
       "mean     1.197725e+01\n",
       "std      4.963730e+02\n",
       "min      1.000000e+00\n",
       "25%      4.200000e+00\n",
       "50%      7.400000e+00\n",
       "75%      1.130000e+01\n",
       "max      9.999900e+04\n",
       "Name: prices, dtype: float64"
      ]
     },
     "execution_count": 15,
     "metadata": {},
     "output_type": "execute_result"
    }
   ],
   "source": [
    "ords_prods_merge3['prices'].describe()"
   ]
  },
  {
   "cell_type": "code",
   "execution_count": 16,
   "id": "42788062",
   "metadata": {},
   "outputs": [
    {
     "data": {
      "text/plain": [
       "11.977249441686086"
      ]
     },
     "execution_count": 16,
     "metadata": {},
     "output_type": "execute_result"
    }
   ],
   "source": [
    "ords_prods_merge3['prices'].mean()"
   ]
  },
  {
   "cell_type": "code",
   "execution_count": 17,
   "id": "53501bd5",
   "metadata": {},
   "outputs": [
    {
     "data": {
      "text/plain": [
       "7.4"
      ]
     },
     "execution_count": 17,
     "metadata": {},
     "output_type": "execute_result"
    }
   ],
   "source": [
    "ords_prods_merge3['prices'].median()"
   ]
  },
  {
   "cell_type": "code",
   "execution_count": 18,
   "id": "cfeb5ecb",
   "metadata": {},
   "outputs": [
    {
     "data": {
      "text/plain": [
       "99999.0"
      ]
     },
     "execution_count": 18,
     "metadata": {},
     "output_type": "execute_result"
    }
   ],
   "source": [
    "ords_prods_merge3['prices'].max()"
   ]
  },
  {
   "cell_type": "markdown",
   "id": "0351f666",
   "metadata": {},
   "source": [
    "Having most values between 7 and 12 (see the median and mean again) but an extreme value of 99,999 is forcing your histogram to shove all the small values into one bar and the extreme value in another one"
   ]
  },
  {
   "cell_type": "code",
   "execution_count": 20,
   "id": "5ca946cc",
   "metadata": {},
   "outputs": [
    {
     "data": {
      "text/plain": [
       "<AxesSubplot:xlabel='prices', ylabel='prices'>"
      ]
     },
     "execution_count": 20,
     "metadata": {},
     "output_type": "execute_result"
    },
    {
     "data": {
      "image/png": "[encoded data removed]",
      "text/plain": [
       "<Figure size 432x288 with 1 Axes>"
      ]
     },
     "metadata": {
      "needs_background": "light"
     },
     "output_type": "display_data"
    }
   ],
   "source": [
    "sns.scatterplot(x = 'prices', y = 'prices',data = ords_prods_merge3)"
   ]
  },
  {
   "cell_type": "markdown",
   "id": "d3738695",
   "metadata": {},
   "source": [
    "Let’s first determine whether there are any values above a certain threshold in your data, for instance, anything above the “normal” price of a supermarket item. If you imagined the maximum price anyone would pay in a supermarket were around $100, then anything above that amount could be considered an outlier. Run this check via the following code"
   ]
  },
  {
   "cell_type": "code",
   "execution_count": 23,
   "id": "ba0e083f",
   "metadata": {},
   "outputs": [
    {
     "data": {
      "text/html": [
       "<div>\n",
       "<style scoped>\n",
       "    .dataframe tbody tr th:only-of-type {\n",
       "        vertical-align: middle;\n",
       "    }\n",
       "\n",
       "    .dataframe tbody tr th {\n",
       "        vertical-align: top;\n",
       "    }\n",
       "\n",
       "    .dataframe thead th {\n",
       "        text-align: right;\n",
       "    }\n",
       "</style>\n",
       "<table border=\"1\" class=\"dataframe\">\n",
       "  <thead>\n",
       "    <tr style=\"text-align: right;\">\n",
       "      <th></th>\n",
       "      <th>order_id</th>\n",
       "      <th>user_id</th>\n",
       "      <th>eval_set</th>\n",
       "      <th>order_number</th>\n",
       "      <th>orders_day_of_week</th>\n",
       "      <th>order_time</th>\n",
       "      <th>days_since_prior_order</th>\n",
       "      <th>product_id</th>\n",
       "      <th>add_to_cart_order</th>\n",
       "      <th>reordered</th>\n",
       "      <th>...</th>\n",
       "      <th>_merge</th>\n",
       "      <th>price_range_loc</th>\n",
       "      <th>Busiest days</th>\n",
       "      <th>busiest_period_of_day</th>\n",
       "      <th>max_order</th>\n",
       "      <th>loyalty_flag</th>\n",
       "      <th>mean_price</th>\n",
       "      <th>price_flag</th>\n",
       "      <th>mean_order_frequency</th>\n",
       "      <th>order_frequency_flag</th>\n",
       "    </tr>\n",
       "  </thead>\n",
       "  <tbody>\n",
       "    <tr>\n",
       "      <th>1429</th>\n",
       "      <td>912404</td>\n",
       "      <td>17.0</td>\n",
       "      <td>prior</td>\n",
       "      <td>12.0</td>\n",
       "      <td>2.0</td>\n",
       "      <td>14.0</td>\n",
       "      <td>5.0</td>\n",
       "      <td>21553.0</td>\n",
       "      <td>5.0</td>\n",
       "      <td>0.0</td>\n",
       "      <td>...</td>\n",
       "      <td>both</td>\n",
       "      <td>High-range product</td>\n",
       "      <td>Regularly busy</td>\n",
       "      <td>Most orders</td>\n",
       "      <td>41.0</td>\n",
       "      <td>Loyal customer</td>\n",
       "      <td>109.670103</td>\n",
       "      <td>High spender</td>\n",
       "      <td>8.342466</td>\n",
       "      <td>Frequent customer</td>\n",
       "    </tr>\n",
       "    <tr>\n",
       "      <th>1491</th>\n",
       "      <td>603376</td>\n",
       "      <td>17.0</td>\n",
       "      <td>prior</td>\n",
       "      <td>22.0</td>\n",
       "      <td>6.0</td>\n",
       "      <td>16.0</td>\n",
       "      <td>4.0</td>\n",
       "      <td>21553.0</td>\n",
       "      <td>3.0</td>\n",
       "      <td>1.0</td>\n",
       "      <td>...</td>\n",
       "      <td>both</td>\n",
       "      <td>High-range product</td>\n",
       "      <td>Regularly busy</td>\n",
       "      <td>Most orders</td>\n",
       "      <td>41.0</td>\n",
       "      <td>Loyal customer</td>\n",
       "      <td>109.670103</td>\n",
       "      <td>High spender</td>\n",
       "      <td>8.342466</td>\n",
       "      <td>Frequent customer</td>\n",
       "    </tr>\n",
       "    <tr>\n",
       "      <th>15448</th>\n",
       "      <td>3264360</td>\n",
       "      <td>135.0</td>\n",
       "      <td>prior</td>\n",
       "      <td>2.0</td>\n",
       "      <td>2.0</td>\n",
       "      <td>21.0</td>\n",
       "      <td>13.0</td>\n",
       "      <td>21553.0</td>\n",
       "      <td>6.0</td>\n",
       "      <td>0.0</td>\n",
       "      <td>...</td>\n",
       "      <td>both</td>\n",
       "      <td>High-range product</td>\n",
       "      <td>Regularly busy</td>\n",
       "      <td>Average orders</td>\n",
       "      <td>5.0</td>\n",
       "      <td>New customer</td>\n",
       "      <td>1250.245833</td>\n",
       "      <td>High spender</td>\n",
       "      <td>12.120000</td>\n",
       "      <td>Regular customer</td>\n",
       "    </tr>\n",
       "    <tr>\n",
       "      <th>15454</th>\n",
       "      <td>892534</td>\n",
       "      <td>135.0</td>\n",
       "      <td>prior</td>\n",
       "      <td>3.0</td>\n",
       "      <td>0.0</td>\n",
       "      <td>8.0</td>\n",
       "      <td>12.0</td>\n",
       "      <td>21553.0</td>\n",
       "      <td>3.0</td>\n",
       "      <td>1.0</td>\n",
       "      <td>...</td>\n",
       "      <td>both</td>\n",
       "      <td>High-range product</td>\n",
       "      <td>Busiest days</td>\n",
       "      <td>Most orders</td>\n",
       "      <td>5.0</td>\n",
       "      <td>New customer</td>\n",
       "      <td>1250.245833</td>\n",
       "      <td>High spender</td>\n",
       "      <td>12.120000</td>\n",
       "      <td>Regular customer</td>\n",
       "    </tr>\n",
       "    <tr>\n",
       "      <th>50648</th>\n",
       "      <td>229704</td>\n",
       "      <td>342.0</td>\n",
       "      <td>prior</td>\n",
       "      <td>8.0</td>\n",
       "      <td>1.0</td>\n",
       "      <td>19.0</td>\n",
       "      <td>30.0</td>\n",
       "      <td>21553.0</td>\n",
       "      <td>9.0</td>\n",
       "      <td>0.0</td>\n",
       "      <td>...</td>\n",
       "      <td>both</td>\n",
       "      <td>High-range product</td>\n",
       "      <td>Busiest days</td>\n",
       "      <td>Most orders</td>\n",
       "      <td>17.0</td>\n",
       "      <td>Regular customer</td>\n",
       "      <td>120.090909</td>\n",
       "      <td>High spender</td>\n",
       "      <td>20.180451</td>\n",
       "      <td>Non-frequent customer</td>\n",
       "    </tr>\n",
       "    <tr>\n",
       "      <th>...</th>\n",
       "      <td>...</td>\n",
       "      <td>...</td>\n",
       "      <td>...</td>\n",
       "      <td>...</td>\n",
       "      <td>...</td>\n",
       "      <td>...</td>\n",
       "      <td>...</td>\n",
       "      <td>...</td>\n",
       "      <td>...</td>\n",
       "      <td>...</td>\n",
       "      <td>...</td>\n",
       "      <td>...</td>\n",
       "      <td>...</td>\n",
       "      <td>...</td>\n",
       "      <td>...</td>\n",
       "      <td>...</td>\n",
       "      <td>...</td>\n",
       "      <td>...</td>\n",
       "      <td>...</td>\n",
       "      <td>...</td>\n",
       "      <td>...</td>\n",
       "    </tr>\n",
       "    <tr>\n",
       "      <th>30483598</th>\n",
       "      <td>1039454</td>\n",
       "      <td>205650.0</td>\n",
       "      <td>prior</td>\n",
       "      <td>15.0</td>\n",
       "      <td>1.0</td>\n",
       "      <td>10.0</td>\n",
       "      <td>7.0</td>\n",
       "      <td>21553.0</td>\n",
       "      <td>6.0</td>\n",
       "      <td>1.0</td>\n",
       "      <td>...</td>\n",
       "      <td>both</td>\n",
       "      <td>High-range product</td>\n",
       "      <td>Busiest days</td>\n",
       "      <td>Most orders</td>\n",
       "      <td>26.0</td>\n",
       "      <td>Regular customer</td>\n",
       "      <td>358.255457</td>\n",
       "      <td>High spender</td>\n",
       "      <td>6.979532</td>\n",
       "      <td>Frequent customer</td>\n",
       "    </tr>\n",
       "    <tr>\n",
       "      <th>30483644</th>\n",
       "      <td>3172853</td>\n",
       "      <td>205650.0</td>\n",
       "      <td>prior</td>\n",
       "      <td>18.0</td>\n",
       "      <td>1.0</td>\n",
       "      <td>9.0</td>\n",
       "      <td>7.0</td>\n",
       "      <td>21553.0</td>\n",
       "      <td>17.0</td>\n",
       "      <td>1.0</td>\n",
       "      <td>...</td>\n",
       "      <td>both</td>\n",
       "      <td>High-range product</td>\n",
       "      <td>Busiest days</td>\n",
       "      <td>Most orders</td>\n",
       "      <td>26.0</td>\n",
       "      <td>Regular customer</td>\n",
       "      <td>358.255457</td>\n",
       "      <td>High spender</td>\n",
       "      <td>6.979532</td>\n",
       "      <td>Frequent customer</td>\n",
       "    </tr>\n",
       "    <tr>\n",
       "      <th>30509374</th>\n",
       "      <td>2504315</td>\n",
       "      <td>205818.0</td>\n",
       "      <td>prior</td>\n",
       "      <td>3.0</td>\n",
       "      <td>5.0</td>\n",
       "      <td>15.0</td>\n",
       "      <td>3.0</td>\n",
       "      <td>21553.0</td>\n",
       "      <td>13.0</td>\n",
       "      <td>0.0</td>\n",
       "      <td>...</td>\n",
       "      <td>both</td>\n",
       "      <td>High-range product</td>\n",
       "      <td>Regularly busy</td>\n",
       "      <td>Most orders</td>\n",
       "      <td>26.0</td>\n",
       "      <td>Regular customer</td>\n",
       "      <td>173.751955</td>\n",
       "      <td>High spender</td>\n",
       "      <td>13.392265</td>\n",
       "      <td>Regular customer</td>\n",
       "    </tr>\n",
       "    <tr>\n",
       "      <th>30509384</th>\n",
       "      <td>1108388</td>\n",
       "      <td>205818.0</td>\n",
       "      <td>prior</td>\n",
       "      <td>5.0</td>\n",
       "      <td>4.0</td>\n",
       "      <td>5.0</td>\n",
       "      <td>1.0</td>\n",
       "      <td>21553.0</td>\n",
       "      <td>5.0</td>\n",
       "      <td>1.0</td>\n",
       "      <td>...</td>\n",
       "      <td>both</td>\n",
       "      <td>High-range product</td>\n",
       "      <td>Slowest days</td>\n",
       "      <td>Fewest orders</td>\n",
       "      <td>26.0</td>\n",
       "      <td>Regular customer</td>\n",
       "      <td>173.751955</td>\n",
       "      <td>High spender</td>\n",
       "      <td>13.392265</td>\n",
       "      <td>Regular customer</td>\n",
       "    </tr>\n",
       "    <tr>\n",
       "      <th>30540258</th>\n",
       "      <td>379732</td>\n",
       "      <td>206049.0</td>\n",
       "      <td>prior</td>\n",
       "      <td>4.0</td>\n",
       "      <td>1.0</td>\n",
       "      <td>14.0</td>\n",
       "      <td>5.0</td>\n",
       "      <td>21553.0</td>\n",
       "      <td>4.0</td>\n",
       "      <td>1.0</td>\n",
       "      <td>...</td>\n",
       "      <td>both</td>\n",
       "      <td>High-range product</td>\n",
       "      <td>Busiest days</td>\n",
       "      <td>Most orders</td>\n",
       "      <td>6.0</td>\n",
       "      <td>New customer</td>\n",
       "      <td>580.323077</td>\n",
       "      <td>High spender</td>\n",
       "      <td>12.333333</td>\n",
       "      <td>Regular customer</td>\n",
       "    </tr>\n",
       "  </tbody>\n",
       "</table>\n",
       "<p>4776 rows × 24 columns</p>\n",
       "</div>"
      ],
      "text/plain": [
       "          order_id   user_id eval_set  order_number  orders_day_of_week  \\\n",
       "1429        912404      17.0    prior          12.0                 2.0   \n",
       "1491        603376      17.0    prior          22.0                 6.0   \n",
       "15448      3264360     135.0    prior           2.0                 2.0   \n",
       "15454       892534     135.0    prior           3.0                 0.0   \n",
       "50648       229704     342.0    prior           8.0                 1.0   \n",
       "...            ...       ...      ...           ...                 ...   \n",
       "30483598   1039454  205650.0    prior          15.0                 1.0   \n",
       "30483644   3172853  205650.0    prior          18.0                 1.0   \n",
       "30509374   2504315  205818.0    prior           3.0                 5.0   \n",
       "30509384   1108388  205818.0    prior           5.0                 4.0   \n",
       "30540258    379732  206049.0    prior           4.0                 1.0   \n",
       "\n",
       "          order_time  days_since_prior_order  product_id  add_to_cart_order  \\\n",
       "1429            14.0                     5.0     21553.0                5.0   \n",
       "1491            16.0                     4.0     21553.0                3.0   \n",
       "15448           21.0                    13.0     21553.0                6.0   \n",
       "15454            8.0                    12.0     21553.0                3.0   \n",
       "50648           19.0                    30.0     21553.0                9.0   \n",
       "...              ...                     ...         ...                ...   \n",
       "30483598        10.0                     7.0     21553.0                6.0   \n",
       "30483644         9.0                     7.0     21553.0               17.0   \n",
       "30509374        15.0                     3.0     21553.0               13.0   \n",
       "30509384         5.0                     1.0     21553.0                5.0   \n",
       "30540258        14.0                     5.0     21553.0                4.0   \n",
       "\n",
       "          reordered  ... _merge     price_range_loc    Busiest days  \\\n",
       "1429            0.0  ...   both  High-range product  Regularly busy   \n",
       "1491            1.0  ...   both  High-range product  Regularly busy   \n",
       "15448           0.0  ...   both  High-range product  Regularly busy   \n",
       "15454           1.0  ...   both  High-range product    Busiest days   \n",
       "50648           0.0  ...   both  High-range product    Busiest days   \n",
       "...             ...  ...    ...                 ...             ...   \n",
       "30483598        1.0  ...   both  High-range product    Busiest days   \n",
       "30483644        1.0  ...   both  High-range product    Busiest days   \n",
       "30509374        0.0  ...   both  High-range product  Regularly busy   \n",
       "30509384        1.0  ...   both  High-range product    Slowest days   \n",
       "30540258        1.0  ...   both  High-range product    Busiest days   \n",
       "\n",
       "          busiest_period_of_day max_order      loyalty_flag   mean_price  \\\n",
       "1429                Most orders      41.0    Loyal customer   109.670103   \n",
       "1491                Most orders      41.0    Loyal customer   109.670103   \n",
       "15448            Average orders       5.0      New customer  1250.245833   \n",
       "15454               Most orders       5.0      New customer  1250.245833   \n",
       "50648               Most orders      17.0  Regular customer   120.090909   \n",
       "...                         ...       ...               ...          ...   \n",
       "30483598            Most orders      26.0  Regular customer   358.255457   \n",
       "30483644            Most orders      26.0  Regular customer   358.255457   \n",
       "30509374            Most orders      26.0  Regular customer   173.751955   \n",
       "30509384          Fewest orders      26.0  Regular customer   173.751955   \n",
       "30540258            Most orders       6.0      New customer   580.323077   \n",
       "\n",
       "            price_flag  mean_order_frequency   order_frequency_flag  \n",
       "1429      High spender              8.342466      Frequent customer  \n",
       "1491      High spender              8.342466      Frequent customer  \n",
       "15448     High spender             12.120000       Regular customer  \n",
       "15454     High spender             12.120000       Regular customer  \n",
       "50648     High spender             20.180451  Non-frequent customer  \n",
       "...                ...                   ...                    ...  \n",
       "30483598  High spender              6.979532      Frequent customer  \n",
       "30483644  High spender              6.979532      Frequent customer  \n",
       "30509374  High spender             13.392265       Regular customer  \n",
       "30509384  High spender             13.392265       Regular customer  \n",
       "30540258  High spender             12.333333       Regular customer  \n",
       "\n",
       "[4776 rows x 24 columns]"
      ]
     },
     "execution_count": 23,
     "metadata": {},
     "output_type": "execute_result"
    }
   ],
   "source": [
    "ords_prods_merge3.loc[ords_prods_merge3['prices'] > 100]"
   ]
  },
  {
   "cell_type": "code",
   "execution_count": 24,
   "id": "88952a72",
   "metadata": {},
   "outputs": [],
   "source": [
    "# let’s mark them as missing since they don’t make sense in terms of the other values in the column. To turn them into NaNs\n",
    "ords_prods_merge3.loc[ords_prods_merge3['prices'] >100, 'prices'] = np.nan"
   ]
  },
  {
   "cell_type": "code",
   "execution_count": 25,
   "id": "fbbe6987",
   "metadata": {},
   "outputs": [
    {
     "data": {
      "text/plain": [
       "25.0"
      ]
     },
     "execution_count": 25,
     "metadata": {},
     "output_type": "execute_result"
    }
   ],
   "source": [
    "ords_prods_merge3['prices'].max()"
   ]
  },
  {
   "cell_type": "code",
   "execution_count": 26,
   "id": "17e4a97f",
   "metadata": {},
   "outputs": [
    {
     "data": {
      "text/plain": [
       "<AxesSubplot:ylabel='Frequency'>"
      ]
     },
     "execution_count": 26,
     "metadata": {},
     "output_type": "execute_result"
    },
    {
     "data": {
      "image/png": "[encoded data removed]",
      "text/plain": [
       "<Figure size 432x288 with 1 Axes>"
      ]
     },
     "metadata": {
      "needs_background": "light"
     },
     "output_type": "display_data"
    }
   ],
   "source": [
    "# creating a new histogram of the “prices” column, after editing\n",
    "ords_prods_merge3['prices'].plot.hist(bins = 25)"
   ]
  },
  {
   "cell_type": "markdown",
   "id": "19b7582b",
   "metadata": {},
   "source": [
    "The results make much more sense now: most products are between $1 and $15, while a few are higher priced at $15 to $25"
   ]
  },
  {
   "cell_type": "code",
   "execution_count": 27,
   "id": "fd48346d",
   "metadata": {},
   "outputs": [
    {
     "data": {
      "text/plain": [
       "<AxesSubplot:ylabel='Frequency'>"
      ]
     },
     "execution_count": 27,
     "metadata": {},
     "output_type": "execute_result"
    },
    {
     "data": {
      "image/png": "[encoded data removed]",
      "text/plain": [
       "<Figure size 432x288 with 1 Axes>"
      ]
     },
     "metadata": {
      "needs_background": "light"
     },
     "output_type": "display_data"
    }
   ],
   "source": [
    "# To increase the level of granularity in the histogram, simply increase the number of bins to, say, 70\n",
    "ords_prods_merge3['prices'].plot.hist(bins = 70)"
   ]
  },
  {
   "cell_type": "markdown",
   "id": "fcaa8cfc",
   "metadata": {},
   "source": [
    "# Creating Line Charts"
   ]
  },
  {
   "cell_type": "markdown",
   "id": "35b7e07c",
   "metadata": {},
   "source": [
    "this line chart will require a great deal of computing power due to the number of unique values in the “prices” column. As such, you’re likely to get a memory error. To avoid this, you can use the subsetting method you should be familiar with by now"
   ]
  },
  {
   "cell_type": "code",
   "execution_count": 29,
   "id": "fc868682",
   "metadata": {},
   "outputs": [],
   "source": [
    "df = ords_prods_merge3[:2000000]"
   ]
  },
  {
   "cell_type": "markdown",
   "id": "b0bb1263",
   "metadata": {},
   "source": [
    "# Sampling Data"
   ]
  },
  {
   "cell_type": "markdown",
   "id": "a8edf1d3",
   "metadata": {},
   "source": [
    " the value is 0.7, since you want a 70/30 split. Any rows whose assigned number is less than 0.7 are placed in one sample, while any rows whose assigned number is greater than 0.7 are placed in the other, effectively splitting the dataframe into two dataframes at a 70/30 ratio. "
   ]
  },
  {
   "cell_type": "code",
   "execution_count": 31,
   "id": "947edb27",
   "metadata": {},
   "outputs": [],
   "source": [
    "np.random.seed(4)"
   ]
  },
  {
   "cell_type": "code",
   "execution_count": 33,
   "id": "ba51434a",
   "metadata": {},
   "outputs": [],
   "source": [
    "# creating a list holding True/False values to the test np.random.rant() <= 0.7\n",
    "dev = np.random.rand(len(ords_prods_merge3)) <= 0.7"
   ]
  },
  {
   "cell_type": "code",
   "execution_count": 37,
   "id": "07d64ff5",
   "metadata": {},
   "outputs": [
    {
     "data": {
      "text/plain": [
       "array([False,  True, False, ...,  True,  True,  True])"
      ]
     },
     "execution_count": 37,
     "metadata": {},
     "output_type": "execute_result"
    }
   ],
   "source": [
    "dev"
   ]
  },
  {
   "cell_type": "code",
   "execution_count": 39,
   "id": "267d15aa",
   "metadata": {},
   "outputs": [
    {
     "data": {
      "text/plain": [
       "array([0.63364823, 0.74880388, 0.49850701, 0.22479665, 0.19806286,\n",
       "       0.76053071, 0.16911084, 0.08833981, 0.68535982, 0.95339335])"
      ]
     },
     "execution_count": 39,
     "metadata": {},
     "output_type": "execute_result"
    }
   ],
   "source": [
    "np.random.rand(10)"
   ]
  },
  {
   "cell_type": "markdown",
   "id": "7b4dfc04",
   "metadata": {},
   "source": [
    " This function is what will actually create your list of random floating numbers between 0 and 1"
   ]
  },
  {
   "cell_type": "code",
   "execution_count": 40,
   "id": "4fa87810",
   "metadata": {},
   "outputs": [
    {
     "data": {
      "text/plain": [
       "30563166"
      ]
     },
     "execution_count": 40,
     "metadata": {},
     "output_type": "execute_result"
    }
   ],
   "source": [
    "len(ords_prods_merge3)"
   ]
  },
  {
   "cell_type": "markdown",
   "id": "5ca976af",
   "metadata": {},
   "source": [
    "You now have a list of 32,434,212 boolean values and a dataframe that’s 32,434,212 rows long. How can you use your list to split your dataframe into two samples? This will involve an elegant hack."
   ]
  },
  {
   "cell_type": "code",
   "execution_count": 41,
   "id": "04b16f7d",
   "metadata": {},
   "outputs": [],
   "source": [
    "# store 70% of the sample in the dataframe big\n",
    "big = ords_prods_merge3[dev]"
   ]
  },
  {
   "cell_type": "code",
   "execution_count": 42,
   "id": "ea72aad9",
   "metadata": {},
   "outputs": [],
   "source": [
    "# store 30% of the sample in the dataframe small\n",
    "small = ords_prods_merge3[~dev]"
   ]
  },
  {
   "cell_type": "markdown",
   "id": "6d8a8aab",
   "metadata": {},
   "source": [
    " if you added the rows of both samples together, you’d get the same numbers of rows as your original ords_prods_merge dataframe"
   ]
  },
  {
   "cell_type": "code",
   "execution_count": 43,
   "id": "00bdffa6",
   "metadata": {},
   "outputs": [
    {
     "data": {
      "text/plain": [
       "30563166"
      ]
     },
     "execution_count": 43,
     "metadata": {},
     "output_type": "execute_result"
    }
   ],
   "source": [
    "len(big) + len (small)"
   ]
  },
  {
   "cell_type": "markdown",
   "id": "b05aebb9",
   "metadata": {},
   "source": [
    "As one last step before creating that chart, let’s do something that will speed up the processing time even further—reducing your samples to only those columns necessary for the chart, namely “prices” and “orders_day_of_the_week.” You can achieve this by running (and checking the result!) of the following command"
   ]
  },
  {
   "cell_type": "code",
   "execution_count": 45,
   "id": "e36442cc",
   "metadata": {},
   "outputs": [],
   "source": [
    "df_2 = small[['orders_day_of_week','prices']]"
   ]
  },
  {
   "cell_type": "code",
   "execution_count": 46,
   "id": "9a7e6dbe",
   "metadata": {},
   "outputs": [
    {
     "data": {
      "image/png": "[encoded data removed]",
      "text/plain": [
       "<Figure size 432x288 with 1 Axes>"
      ]
     },
     "metadata": {
      "needs_background": "light"
     },
     "output_type": "display_data"
    }
   ],
   "source": [
    "# finally ready to create the chart\n",
    "line = sns.lineplot(data = df_2, x = 'orders_day_of_week',y = 'prices')"
   ]
  },
  {
   "cell_type": "code",
   "execution_count": 52,
   "id": "c2823581",
   "metadata": {},
   "outputs": [],
   "source": [
    "# export\n",
    "line.figure.savefig(os.path.join(path, '04 Analysis','Visualizations', 'line_orders_dow.png'))"
   ]
  },
  {
   "cell_type": "code",
   "execution_count": 51,
   "id": "eb0a2105",
   "metadata": {},
   "outputs": [],
   "source": [
    "df_4 = ords_prods_merge3[['orders_day_of_week','prices']]"
   ]
  },
  {
   "cell_type": "code",
   "execution_count": null,
   "id": "955bd3c0",
   "metadata": {},
   "outputs": [],
   "source": [
    "line_2 = sns.lineplot(data = df_4, x = 'orders_day_of_week',y = 'prices')"
   ]
  }
 ],
 "metadata": {
  "kernelspec": {
   "display_name": "Python 3",
   "language": "python",
   "name": "python3"
  },
  "language_info": {
   "codemirror_mode": {
    "name": "ipython",
    "version": 3
   },
   "file_extension": ".py",
   "mimetype": "text/x-python",
   "name": "python",
   "nbconvert_exporter": "python",
   "pygments_lexer": "ipython3",
   "version": "3.8.8"
  }
 },
 "nbformat": 4,
 "nbformat_minor": 5
}
