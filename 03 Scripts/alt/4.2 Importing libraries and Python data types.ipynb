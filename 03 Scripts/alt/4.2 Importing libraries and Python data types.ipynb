{
 "cells": [
  {
   "cell_type": "markdown",
   "id": "58984697",
   "metadata": {},
   "source": [
    "# 01.Importing libraries\n"
   ]
  },
  {
   "cell_type": "code",
   "execution_count": 1,
   "id": "2592e5e1",
   "metadata": {},
   "outputs": [],
   "source": [
    "#Import libraries\n",
    "import pandas as pd\n",
    "import numpy as np\n",
    "import os"
   ]
  },
  {
   "cell_type": "markdown",
   "id": "2866a24f",
   "metadata": {},
   "source": [
    "# 02. Python Data types"
   ]
  },
  {
   "cell_type": "code",
   "execution_count": 24,
   "id": "390cfb68",
   "metadata": {},
   "outputs": [],
   "source": [
    "x=95"
   ]
  },
  {
   "cell_type": "code",
   "execution_count": 25,
   "id": "ce42bb71",
   "metadata": {},
   "outputs": [
    {
     "data": {
      "text/plain": [
       "100"
      ]
     },
     "execution_count": 25,
     "metadata": {},
     "output_type": "execute_result"
    }
   ],
   "source": [
    "x+5"
   ]
  },
  {
   "cell_type": "code",
   "execution_count": 26,
   "id": "f1e30eb9",
   "metadata": {},
   "outputs": [],
   "source": [
    "x=105"
   ]
  },
  {
   "cell_type": "code",
   "execution_count": 27,
   "id": "0031da14",
   "metadata": {},
   "outputs": [
    {
     "data": {
      "text/plain": [
       "100"
      ]
     },
     "execution_count": 27,
     "metadata": {},
     "output_type": "execute_result"
    }
   ],
   "source": [
    "x-5"
   ]
  },
  {
   "cell_type": "code",
   "execution_count": 28,
   "id": "83a315b9",
   "metadata": {},
   "outputs": [],
   "source": [
    "x=50"
   ]
  },
  {
   "cell_type": "code",
   "execution_count": 29,
   "id": "fca7e6fb",
   "metadata": {},
   "outputs": [],
   "source": [
    "y=50"
   ]
  },
  {
   "cell_type": "code",
   "execution_count": 30,
   "id": "9cf64efb",
   "metadata": {},
   "outputs": [
    {
     "data": {
      "text/plain": [
       "100"
      ]
     },
     "execution_count": 30,
     "metadata": {},
     "output_type": "execute_result"
    }
   ],
   "source": [
    "x+y"
   ]
  },
  {
   "cell_type": "code",
   "execution_count": 31,
   "id": "5b558163",
   "metadata": {},
   "outputs": [],
   "source": [
    "b=6.5"
   ]
  },
  {
   "cell_type": "code",
   "execution_count": 32,
   "id": "f0763027",
   "metadata": {},
   "outputs": [],
   "source": [
    "c=2.5"
   ]
  },
  {
   "cell_type": "code",
   "execution_count": 33,
   "id": "d7931a77",
   "metadata": {},
   "outputs": [
    {
     "data": {
      "text/plain": [
       "2.4"
      ]
     },
     "execution_count": 33,
     "metadata": {},
     "output_type": "execute_result"
    }
   ],
   "source": [
    "6/c"
   ]
  },
  {
   "cell_type": "code",
   "execution_count": 35,
   "id": "19a350eb",
   "metadata": {},
   "outputs": [],
   "source": [
    "d='h'"
   ]
  },
  {
   "cell_type": "code",
   "execution_count": 36,
   "id": "0e861de8",
   "metadata": {},
   "outputs": [],
   "source": [
    "e='i'"
   ]
  },
  {
   "cell_type": "code",
   "execution_count": 39,
   "id": "7404245f",
   "metadata": {},
   "outputs": [
    {
     "data": {
      "text/plain": [
       "'Hi'"
      ]
     },
     "execution_count": 39,
     "metadata": {},
     "output_type": "execute_result"
    }
   ],
   "source": [
    "d+e"
   ]
  },
  {
   "cell_type": "code",
   "execution_count": 49,
   "id": "1f63db8f",
   "metadata": {},
   "outputs": [],
   "source": [
    "m ='Hi, '"
   ]
  },
  {
   "cell_type": "code",
   "execution_count": 50,
   "id": "e625758c",
   "metadata": {},
   "outputs": [],
   "source": [
    "n='my '"
   ]
  },
  {
   "cell_type": "code",
   "execution_count": 51,
   "id": "5e5f1b51",
   "metadata": {},
   "outputs": [],
   "source": [
    "k='name '"
   ]
  },
  {
   "cell_type": "code",
   "execution_count": 52,
   "id": "16904b0b",
   "metadata": {},
   "outputs": [],
   "source": [
    "l='is '"
   ]
  },
  {
   "cell_type": "code",
   "execution_count": 55,
   "id": "7c7a14f8",
   "metadata": {},
   "outputs": [],
   "source": [
    "o='Maik'"
   ]
  },
  {
   "cell_type": "code",
   "execution_count": 56,
   "id": "4dffa962",
   "metadata": {},
   "outputs": [
    {
     "data": {
      "text/plain": [
       "'Hi, my name is Maik'"
      ]
     },
     "execution_count": 56,
     "metadata": {},
     "output_type": "execute_result"
    }
   ],
   "source": [
    "m+n+k+l+o"
   ]
  },
  {
   "cell_type": "code",
   "execution_count": 57,
   "id": "95d8c362",
   "metadata": {},
   "outputs": [
    {
     "data": {
      "text/plain": [
       "'my my my my my my my my my my my my my my my my my my my my my my my my my my my my my my my my my my my my my my my my my my my my my my my my my my my my my my my my my my my my my my my my my my my my my my my my my my my my my my my my my my my my my my my my my my my my my my my my my my my my '"
      ]
     },
     "execution_count": 57,
     "metadata": {},
     "output_type": "execute_result"
    }
   ],
   "source": [
    "100*n"
   ]
  },
  {
   "cell_type": "code",
   "execution_count": null,
   "id": "bc6b3ab4",
   "metadata": {},
   "outputs": [],
   "source": []
  }
 ],
 "metadata": {
  "kernelspec": {
   "display_name": "Python 3",
   "language": "python",
   "name": "python3"
  },
  "language_info": {
   "codemirror_mode": {
    "name": "ipython",
    "version": 3
   },
   "file_extension": ".py",
   "mimetype": "text/x-python",
   "name": "python",
   "nbconvert_exporter": "python",
   "pygments_lexer": "ipython3",
   "version": "3.8.8"
  }
 },
 "nbformat": 4,
 "nbformat_minor": 5
}
