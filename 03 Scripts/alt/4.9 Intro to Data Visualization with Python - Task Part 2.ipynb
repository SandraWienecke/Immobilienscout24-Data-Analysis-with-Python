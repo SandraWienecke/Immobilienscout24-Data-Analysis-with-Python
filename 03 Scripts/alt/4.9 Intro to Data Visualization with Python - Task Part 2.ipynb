{
 "cells": [
  {
   "cell_type": "markdown",
   "id": "976c5828",
   "metadata": {},
   "source": [
    "# 1. Task"
   ]
  },
  {
   "cell_type": "code",
   "execution_count": 48,
   "id": "ee4827e1",
   "metadata": {},
   "outputs": [],
   "source": [
    "import pandas as pd\n",
    "import numpy as np\n",
    "import os\n",
    "import matplotlib.pyplot as plt\n",
    "import seaborn as sns\n",
    "import scipy"
   ]
  },
  {
   "cell_type": "code",
   "execution_count": 49,
   "id": "609e0f36",
   "metadata": {},
   "outputs": [],
   "source": [
    "path = r'C:\\Users\\s.wienecke\\Documents\\Fortbildung\\Instacart Basket Analysis'"
   ]
  },
  {
   "cell_type": "code",
   "execution_count": 50,
   "id": "daebd699",
   "metadata": {},
   "outputs": [],
   "source": [
    "# ords_prods_cust stands for orders_products_customers\n",
    "ords_prods_cust= pd.read_pickle(os.path.join(path, '02 Data','Prepared Data', 'orders_products_customers_merged_with_frequency_columns2.pkl'))"
   ]
  },
  {
   "cell_type": "code",
   "execution_count": 51,
   "id": "e21dbb40",
   "metadata": {},
   "outputs": [
    {
     "data": {
      "text/html": [
       "<div>\n",
       "<style scoped>\n",
       "    .dataframe tbody tr th:only-of-type {\n",
       "        vertical-align: middle;\n",
       "    }\n",
       "\n",
       "    .dataframe tbody tr th {\n",
       "        vertical-align: top;\n",
       "    }\n",
       "\n",
       "    .dataframe thead th {\n",
       "        text-align: right;\n",
       "    }\n",
       "</style>\n",
       "<table border=\"1\" class=\"dataframe\">\n",
       "  <thead>\n",
       "    <tr style=\"text-align: right;\">\n",
       "      <th></th>\n",
       "      <th>user_id</th>\n",
       "      <th>Surname</th>\n",
       "      <th>Gender</th>\n",
       "      <th>STATE</th>\n",
       "      <th>Age</th>\n",
       "      <th>date_joined</th>\n",
       "      <th>Family Members</th>\n",
       "      <th>Family status</th>\n",
       "      <th>Income</th>\n",
       "      <th>order_id</th>\n",
       "      <th>...</th>\n",
       "      <th>price_range_loc</th>\n",
       "      <th>Busiest days</th>\n",
       "      <th>busiest_period_of_day</th>\n",
       "      <th>max_order</th>\n",
       "      <th>loyalty_flag</th>\n",
       "      <th>mean_price</th>\n",
       "      <th>price_flag</th>\n",
       "      <th>median_order_frequency</th>\n",
       "      <th>order_frequency_flag</th>\n",
       "      <th>_merge</th>\n",
       "    </tr>\n",
       "  </thead>\n",
       "  <tbody>\n",
       "    <tr>\n",
       "      <th>0</th>\n",
       "      <td>26711</td>\n",
       "      <td>Esquivel</td>\n",
       "      <td>Female</td>\n",
       "      <td>Missouri</td>\n",
       "      <td>48</td>\n",
       "      <td>1/1/2017</td>\n",
       "      <td>3</td>\n",
       "      <td>married</td>\n",
       "      <td>165665</td>\n",
       "      <td>423547</td>\n",
       "      <td>...</td>\n",
       "      <td>Mid-range product</td>\n",
       "      <td>Regularly busy</td>\n",
       "      <td>Most orders</td>\n",
       "      <td>9.0</td>\n",
       "      <td>New customer</td>\n",
       "      <td>8.205882</td>\n",
       "      <td>Low spender</td>\n",
       "      <td>20.0</td>\n",
       "      <td>Regular customer</td>\n",
       "      <td>both</td>\n",
       "    </tr>\n",
       "    <tr>\n",
       "      <th>1</th>\n",
       "      <td>26711</td>\n",
       "      <td>Esquivel</td>\n",
       "      <td>Female</td>\n",
       "      <td>Missouri</td>\n",
       "      <td>48</td>\n",
       "      <td>1/1/2017</td>\n",
       "      <td>3</td>\n",
       "      <td>married</td>\n",
       "      <td>165665</td>\n",
       "      <td>2524893</td>\n",
       "      <td>...</td>\n",
       "      <td>Mid-range product</td>\n",
       "      <td>Slowest days</td>\n",
       "      <td>Most orders</td>\n",
       "      <td>9.0</td>\n",
       "      <td>New customer</td>\n",
       "      <td>8.205882</td>\n",
       "      <td>Low spender</td>\n",
       "      <td>20.0</td>\n",
       "      <td>Regular customer</td>\n",
       "      <td>both</td>\n",
       "    </tr>\n",
       "    <tr>\n",
       "      <th>2</th>\n",
       "      <td>26711</td>\n",
       "      <td>Esquivel</td>\n",
       "      <td>Female</td>\n",
       "      <td>Missouri</td>\n",
       "      <td>48</td>\n",
       "      <td>1/1/2017</td>\n",
       "      <td>3</td>\n",
       "      <td>married</td>\n",
       "      <td>165665</td>\n",
       "      <td>2524893</td>\n",
       "      <td>...</td>\n",
       "      <td>Low-range product</td>\n",
       "      <td>Slowest days</td>\n",
       "      <td>Most orders</td>\n",
       "      <td>9.0</td>\n",
       "      <td>New customer</td>\n",
       "      <td>8.205882</td>\n",
       "      <td>Low spender</td>\n",
       "      <td>20.0</td>\n",
       "      <td>Regular customer</td>\n",
       "      <td>both</td>\n",
       "    </tr>\n",
       "    <tr>\n",
       "      <th>3</th>\n",
       "      <td>26711</td>\n",
       "      <td>Esquivel</td>\n",
       "      <td>Female</td>\n",
       "      <td>Missouri</td>\n",
       "      <td>48</td>\n",
       "      <td>1/1/2017</td>\n",
       "      <td>3</td>\n",
       "      <td>married</td>\n",
       "      <td>165665</td>\n",
       "      <td>2524893</td>\n",
       "      <td>...</td>\n",
       "      <td>Mid-range product</td>\n",
       "      <td>Slowest days</td>\n",
       "      <td>Most orders</td>\n",
       "      <td>9.0</td>\n",
       "      <td>New customer</td>\n",
       "      <td>8.205882</td>\n",
       "      <td>Low spender</td>\n",
       "      <td>20.0</td>\n",
       "      <td>Regular customer</td>\n",
       "      <td>both</td>\n",
       "    </tr>\n",
       "    <tr>\n",
       "      <th>4</th>\n",
       "      <td>26711</td>\n",
       "      <td>Esquivel</td>\n",
       "      <td>Female</td>\n",
       "      <td>Missouri</td>\n",
       "      <td>48</td>\n",
       "      <td>1/1/2017</td>\n",
       "      <td>3</td>\n",
       "      <td>married</td>\n",
       "      <td>165665</td>\n",
       "      <td>2984525</td>\n",
       "      <td>...</td>\n",
       "      <td>Mid-range product</td>\n",
       "      <td>Busiest days</td>\n",
       "      <td>Most orders</td>\n",
       "      <td>9.0</td>\n",
       "      <td>New customer</td>\n",
       "      <td>8.205882</td>\n",
       "      <td>Low spender</td>\n",
       "      <td>20.0</td>\n",
       "      <td>Regular customer</td>\n",
       "      <td>both</td>\n",
       "    </tr>\n",
       "  </tbody>\n",
       "</table>\n",
       "<p>5 rows × 32 columns</p>\n",
       "</div>"
      ],
      "text/plain": [
       "   user_id   Surname  Gender     STATE  Age date_joined  Family Members  \\\n",
       "0    26711  Esquivel  Female  Missouri   48    1/1/2017               3   \n",
       "1    26711  Esquivel  Female  Missouri   48    1/1/2017               3   \n",
       "2    26711  Esquivel  Female  Missouri   48    1/1/2017               3   \n",
       "3    26711  Esquivel  Female  Missouri   48    1/1/2017               3   \n",
       "4    26711  Esquivel  Female  Missouri   48    1/1/2017               3   \n",
       "\n",
       "  Family status  Income  order_id  ...    price_range_loc    Busiest days  \\\n",
       "0       married  165665    423547  ...  Mid-range product  Regularly busy   \n",
       "1       married  165665   2524893  ...  Mid-range product    Slowest days   \n",
       "2       married  165665   2524893  ...  Low-range product    Slowest days   \n",
       "3       married  165665   2524893  ...  Mid-range product    Slowest days   \n",
       "4       married  165665   2984525  ...  Mid-range product    Busiest days   \n",
       "\n",
       "   busiest_period_of_day  max_order  loyalty_flag  mean_price   price_flag  \\\n",
       "0            Most orders        9.0  New customer    8.205882  Low spender   \n",
       "1            Most orders        9.0  New customer    8.205882  Low spender   \n",
       "2            Most orders        9.0  New customer    8.205882  Low spender   \n",
       "3            Most orders        9.0  New customer    8.205882  Low spender   \n",
       "4            Most orders        9.0  New customer    8.205882  Low spender   \n",
       "\n",
       "   median_order_frequency order_frequency_flag  _merge  \n",
       "0                    20.0     Regular customer    both  \n",
       "1                    20.0     Regular customer    both  \n",
       "2                    20.0     Regular customer    both  \n",
       "3                    20.0     Regular customer    both  \n",
       "4                    20.0     Regular customer    both  \n",
       "\n",
       "[5 rows x 32 columns]"
      ]
     },
     "execution_count": 51,
     "metadata": {},
     "output_type": "execute_result"
    }
   ],
   "source": [
    "ords_prods_cust.head()"
   ]
  },
  {
   "cell_type": "markdown",
   "id": "7c15da52",
   "metadata": {},
   "source": [
    "# 2. Task"
   ]
  },
  {
   "cell_type": "code",
   "execution_count": 52,
   "id": "b732bfce",
   "metadata": {},
   "outputs": [
    {
     "data": {
      "image/png": "[encoded data removed]",
      "text/plain": [
       "<Figure size 432x288 with 1 Axes>"
      ]
     },
     "metadata": {
      "needs_background": "light"
     },
     "output_type": "display_data"
    }
   ],
   "source": [
    "# bar chart with observations are ordered from largest to smallest, using colors for the plot bar\n",
    "bar_odw = ords_prods_cust['orders_day_of_week'].value_counts().plot.bar(color = ['purple', 'red', 'pink', 'orange', 'yellow', 'green', 'blue'])"
   ]
  },
  {
   "cell_type": "code",
   "execution_count": 53,
   "id": "bcb6c11a",
   "metadata": {},
   "outputs": [],
   "source": [
    "# export\n",
    "bar_odw.figure.savefig(os.path.join(path, '04 Analysis','Visualizations', 'bar_orders_dow2.png'))"
   ]
  },
  {
   "cell_type": "code",
   "execution_count": 57,
   "id": "7bd57348",
   "metadata": {},
   "outputs": [
    {
     "data": {
      "image/png": "[encoded data removed]",
      "text/plain": [
       "<Figure size 432x288 with 1 Axes>"
      ]
     },
     "metadata": {
      "needs_background": "light"
     },
     "output_type": "display_data"
    }
   ],
   "source": [
    "# creating a histogram of the “prices” column\n",
    "hist_prices = ords_prods_cust['prices'].plot.hist(bins = 70)"
   ]
  },
  {
   "cell_type": "code",
   "execution_count": 65,
   "id": "7b2ff901",
   "metadata": {},
   "outputs": [],
   "source": [
    "# export\n",
    "hist_prices.figure.savefig(os.path.join(path, '04 Analysis','Visualizations', 'histogram_prices.png'))"
   ]
  },
  {
   "cell_type": "markdown",
   "id": "9728b8ed",
   "metadata": {},
   "source": [
    "Something doesn’t seem right here --> I should have gotten 25 bars (one for each bin). Instead, I’ve gotten one single column."
   ]
  },
  {
   "cell_type": "code",
   "execution_count": 59,
   "id": "64020fba",
   "metadata": {},
   "outputs": [
    {
     "data": {
      "text/plain": [
       "count    3.032876e+07\n",
       "mean     1.197725e+01\n",
       "std      4.963730e+02\n",
       "min      1.000000e+00\n",
       "25%      4.200000e+00\n",
       "50%      7.400000e+00\n",
       "75%      1.130000e+01\n",
       "max      9.999900e+04\n",
       "Name: prices, dtype: float64"
      ]
     },
     "execution_count": 59,
     "metadata": {},
     "output_type": "execute_result"
    }
   ],
   "source": [
    "ords_prods_cust['prices'].describe()"
   ]
  },
  {
   "cell_type": "code",
   "execution_count": 60,
   "id": "81300fa9",
   "metadata": {},
   "outputs": [
    {
     "data": {
      "text/plain": [
       "11.97724944169804"
      ]
     },
     "execution_count": 60,
     "metadata": {},
     "output_type": "execute_result"
    }
   ],
   "source": [
    "ords_prods_cust['prices'].mean()"
   ]
  },
  {
   "cell_type": "code",
   "execution_count": 61,
   "id": "0a838282",
   "metadata": {},
   "outputs": [
    {
     "data": {
      "text/plain": [
       "7.4"
      ]
     },
     "execution_count": 61,
     "metadata": {},
     "output_type": "execute_result"
    }
   ],
   "source": [
    "ords_prods_cust['prices'].median()"
   ]
  },
  {
   "cell_type": "code",
   "execution_count": 62,
   "id": "a4cb29ab",
   "metadata": {},
   "outputs": [
    {
     "data": {
      "text/plain": [
       "99999.0"
      ]
     },
     "execution_count": 62,
     "metadata": {},
     "output_type": "execute_result"
    }
   ],
   "source": [
    "ords_prods_cust['prices'].max()"
   ]
  },
  {
   "cell_type": "markdown",
   "id": "c978b010",
   "metadata": {},
   "source": [
    "Having most values between 7 and 12 (see the median and mean again) but an extreme value of 99,999 is forcing your histogram to shove all the small values into one bar and the extreme value in another one"
   ]
  },
  {
   "cell_type": "code",
   "execution_count": 63,
   "id": "050b9d58",
   "metadata": {},
   "outputs": [
    {
     "data": {
      "image/png": "[encoded data removed]",
      "text/plain": [
       "<Figure size 432x288 with 1 Axes>"
      ]
     },
     "metadata": {
      "needs_background": "light"
     },
     "output_type": "display_data"
    }
   ],
   "source": [
    "scatter_prices = sns.scatterplot(x = 'prices', y = 'prices',data = ords_prods_cust)"
   ]
  },
  {
   "cell_type": "code",
   "execution_count": 66,
   "id": "13804021",
   "metadata": {},
   "outputs": [],
   "source": [
    "# export\n",
    "scatter_prices.figure.savefig(os.path.join(path, '04 Analysis','Visualizations', 'scatterplot_prices.png'))"
   ]
  },
  {
   "cell_type": "code",
   "execution_count": 67,
   "id": "cfacc56d",
   "metadata": {},
   "outputs": [
    {
     "data": {
      "text/html": [
       "<div>\n",
       "<style scoped>\n",
       "    .dataframe tbody tr th:only-of-type {\n",
       "        vertical-align: middle;\n",
       "    }\n",
       "\n",
       "    .dataframe tbody tr th {\n",
       "        vertical-align: top;\n",
       "    }\n",
       "\n",
       "    .dataframe thead th {\n",
       "        text-align: right;\n",
       "    }\n",
       "</style>\n",
       "<table border=\"1\" class=\"dataframe\">\n",
       "  <thead>\n",
       "    <tr style=\"text-align: right;\">\n",
       "      <th></th>\n",
       "      <th>user_id</th>\n",
       "      <th>Surname</th>\n",
       "      <th>Gender</th>\n",
       "      <th>STATE</th>\n",
       "      <th>Age</th>\n",
       "      <th>date_joined</th>\n",
       "      <th>Family Members</th>\n",
       "      <th>Family status</th>\n",
       "      <th>Income</th>\n",
       "      <th>order_id</th>\n",
       "      <th>...</th>\n",
       "      <th>price_range_loc</th>\n",
       "      <th>Busiest days</th>\n",
       "      <th>busiest_period_of_day</th>\n",
       "      <th>max_order</th>\n",
       "      <th>loyalty_flag</th>\n",
       "      <th>mean_price</th>\n",
       "      <th>price_flag</th>\n",
       "      <th>median_order_frequency</th>\n",
       "      <th>order_frequency_flag</th>\n",
       "      <th>_merge</th>\n",
       "    </tr>\n",
       "  </thead>\n",
       "  <tbody>\n",
       "    <tr>\n",
       "      <th>5256</th>\n",
       "      <td>117740</td>\n",
       "      <td>Sparks</td>\n",
       "      <td>Female</td>\n",
       "      <td>Oregon</td>\n",
       "      <td>55</td>\n",
       "      <td>1/1/2017</td>\n",
       "      <td>1</td>\n",
       "      <td>married</td>\n",
       "      <td>292759</td>\n",
       "      <td>3369785</td>\n",
       "      <td>...</td>\n",
       "      <td>High-range product</td>\n",
       "      <td>Busiest days</td>\n",
       "      <td>Most orders</td>\n",
       "      <td>85.0</td>\n",
       "      <td>Loyal customer</td>\n",
       "      <td>37.052165</td>\n",
       "      <td>High spender</td>\n",
       "      <td>4.0</td>\n",
       "      <td>Frequent customer</td>\n",
       "      <td>both</td>\n",
       "    </tr>\n",
       "    <tr>\n",
       "      <th>9814</th>\n",
       "      <td>31590</td>\n",
       "      <td>Sanford</td>\n",
       "      <td>Female</td>\n",
       "      <td>Montana</td>\n",
       "      <td>46</td>\n",
       "      <td>1/1/2017</td>\n",
       "      <td>0</td>\n",
       "      <td>single</td>\n",
       "      <td>154076</td>\n",
       "      <td>830157</td>\n",
       "      <td>...</td>\n",
       "      <td>High-range product</td>\n",
       "      <td>Busiest days</td>\n",
       "      <td>Most orders</td>\n",
       "      <td>39.0</td>\n",
       "      <td>Regular customer</td>\n",
       "      <td>59.676655</td>\n",
       "      <td>High spender</td>\n",
       "      <td>8.0</td>\n",
       "      <td>Frequent customer</td>\n",
       "      <td>both</td>\n",
       "    </tr>\n",
       "    <tr>\n",
       "      <th>26116</th>\n",
       "      <td>100958</td>\n",
       "      <td>Parsons</td>\n",
       "      <td>Male</td>\n",
       "      <td>North Dakota</td>\n",
       "      <td>18</td>\n",
       "      <td>1/2/2017</td>\n",
       "      <td>2</td>\n",
       "      <td>living with parents and siblings</td>\n",
       "      <td>113408</td>\n",
       "      <td>2471612</td>\n",
       "      <td>...</td>\n",
       "      <td>High-range product</td>\n",
       "      <td>Busiest days</td>\n",
       "      <td>Most orders</td>\n",
       "      <td>6.0</td>\n",
       "      <td>New customer</td>\n",
       "      <td>587.820779</td>\n",
       "      <td>High spender</td>\n",
       "      <td>11.0</td>\n",
       "      <td>Regular customer</td>\n",
       "      <td>both</td>\n",
       "    </tr>\n",
       "    <tr>\n",
       "      <th>26145</th>\n",
       "      <td>100958</td>\n",
       "      <td>Parsons</td>\n",
       "      <td>Male</td>\n",
       "      <td>North Dakota</td>\n",
       "      <td>18</td>\n",
       "      <td>1/2/2017</td>\n",
       "      <td>2</td>\n",
       "      <td>living with parents and siblings</td>\n",
       "      <td>113408</td>\n",
       "      <td>2829915</td>\n",
       "      <td>...</td>\n",
       "      <td>High-range product</td>\n",
       "      <td>Busiest days</td>\n",
       "      <td>Most orders</td>\n",
       "      <td>6.0</td>\n",
       "      <td>New customer</td>\n",
       "      <td>587.820779</td>\n",
       "      <td>High spender</td>\n",
       "      <td>11.0</td>\n",
       "      <td>Regular customer</td>\n",
       "      <td>both</td>\n",
       "    </tr>\n",
       "    <tr>\n",
       "      <th>26161</th>\n",
       "      <td>100958</td>\n",
       "      <td>Parsons</td>\n",
       "      <td>Male</td>\n",
       "      <td>North Dakota</td>\n",
       "      <td>18</td>\n",
       "      <td>1/2/2017</td>\n",
       "      <td>2</td>\n",
       "      <td>living with parents and siblings</td>\n",
       "      <td>113408</td>\n",
       "      <td>277191</td>\n",
       "      <td>...</td>\n",
       "      <td>High-range product</td>\n",
       "      <td>Regularly busy</td>\n",
       "      <td>Most orders</td>\n",
       "      <td>6.0</td>\n",
       "      <td>New customer</td>\n",
       "      <td>587.820779</td>\n",
       "      <td>High spender</td>\n",
       "      <td>11.0</td>\n",
       "      <td>Regular customer</td>\n",
       "      <td>both</td>\n",
       "    </tr>\n",
       "    <tr>\n",
       "      <th>...</th>\n",
       "      <td>...</td>\n",
       "      <td>...</td>\n",
       "      <td>...</td>\n",
       "      <td>...</td>\n",
       "      <td>...</td>\n",
       "      <td>...</td>\n",
       "      <td>...</td>\n",
       "      <td>...</td>\n",
       "      <td>...</td>\n",
       "      <td>...</td>\n",
       "      <td>...</td>\n",
       "      <td>...</td>\n",
       "      <td>...</td>\n",
       "      <td>...</td>\n",
       "      <td>...</td>\n",
       "      <td>...</td>\n",
       "      <td>...</td>\n",
       "      <td>...</td>\n",
       "      <td>...</td>\n",
       "      <td>...</td>\n",
       "      <td>...</td>\n",
       "    </tr>\n",
       "    <tr>\n",
       "      <th>30551018</th>\n",
       "      <td>5519</td>\n",
       "      <td>Daniel</td>\n",
       "      <td>Female</td>\n",
       "      <td>Georgia</td>\n",
       "      <td>78</td>\n",
       "      <td>4/1/2020</td>\n",
       "      <td>3</td>\n",
       "      <td>married</td>\n",
       "      <td>262610</td>\n",
       "      <td>288789</td>\n",
       "      <td>...</td>\n",
       "      <td>High-range product</td>\n",
       "      <td>Slowest days</td>\n",
       "      <td>Most orders</td>\n",
       "      <td>54.0</td>\n",
       "      <td>Loyal customer</td>\n",
       "      <td>71.320380</td>\n",
       "      <td>High spender</td>\n",
       "      <td>7.0</td>\n",
       "      <td>Frequent customer</td>\n",
       "      <td>both</td>\n",
       "    </tr>\n",
       "    <tr>\n",
       "      <th>30551052</th>\n",
       "      <td>5519</td>\n",
       "      <td>Daniel</td>\n",
       "      <td>Female</td>\n",
       "      <td>Georgia</td>\n",
       "      <td>78</td>\n",
       "      <td>4/1/2020</td>\n",
       "      <td>3</td>\n",
       "      <td>married</td>\n",
       "      <td>262610</td>\n",
       "      <td>1615768</td>\n",
       "      <td>...</td>\n",
       "      <td>High-range product</td>\n",
       "      <td>Regularly busy</td>\n",
       "      <td>Most orders</td>\n",
       "      <td>54.0</td>\n",
       "      <td>Loyal customer</td>\n",
       "      <td>71.320380</td>\n",
       "      <td>High spender</td>\n",
       "      <td>7.0</td>\n",
       "      <td>Frequent customer</td>\n",
       "      <td>both</td>\n",
       "    </tr>\n",
       "    <tr>\n",
       "      <th>30551127</th>\n",
       "      <td>5519</td>\n",
       "      <td>Daniel</td>\n",
       "      <td>Female</td>\n",
       "      <td>Georgia</td>\n",
       "      <td>78</td>\n",
       "      <td>4/1/2020</td>\n",
       "      <td>3</td>\n",
       "      <td>married</td>\n",
       "      <td>262610</td>\n",
       "      <td>1744232</td>\n",
       "      <td>...</td>\n",
       "      <td>High-range product</td>\n",
       "      <td>Regularly busy</td>\n",
       "      <td>Most orders</td>\n",
       "      <td>54.0</td>\n",
       "      <td>Loyal customer</td>\n",
       "      <td>71.320380</td>\n",
       "      <td>High spender</td>\n",
       "      <td>7.0</td>\n",
       "      <td>Frequent customer</td>\n",
       "      <td>both</td>\n",
       "    </tr>\n",
       "    <tr>\n",
       "      <th>30555856</th>\n",
       "      <td>140589</td>\n",
       "      <td>Harper</td>\n",
       "      <td>Male</td>\n",
       "      <td>Maryland</td>\n",
       "      <td>26</td>\n",
       "      <td>4/1/2020</td>\n",
       "      <td>0</td>\n",
       "      <td>single</td>\n",
       "      <td>154845</td>\n",
       "      <td>1244840</td>\n",
       "      <td>...</td>\n",
       "      <td>High-range product</td>\n",
       "      <td>Regularly busy</td>\n",
       "      <td>Most orders</td>\n",
       "      <td>10.0</td>\n",
       "      <td>New customer</td>\n",
       "      <td>978.420388</td>\n",
       "      <td>High spender</td>\n",
       "      <td>20.0</td>\n",
       "      <td>Regular customer</td>\n",
       "      <td>both</td>\n",
       "    </tr>\n",
       "    <tr>\n",
       "      <th>30558737</th>\n",
       "      <td>200065</td>\n",
       "      <td>Wilson</td>\n",
       "      <td>Male</td>\n",
       "      <td>Tennessee</td>\n",
       "      <td>59</td>\n",
       "      <td>4/1/2020</td>\n",
       "      <td>3</td>\n",
       "      <td>married</td>\n",
       "      <td>243617</td>\n",
       "      <td>723935</td>\n",
       "      <td>...</td>\n",
       "      <td>High-range product</td>\n",
       "      <td>Regularly busy</td>\n",
       "      <td>Most orders</td>\n",
       "      <td>19.0</td>\n",
       "      <td>Regular customer</td>\n",
       "      <td>105.339869</td>\n",
       "      <td>High spender</td>\n",
       "      <td>12.0</td>\n",
       "      <td>Regular customer</td>\n",
       "      <td>both</td>\n",
       "    </tr>\n",
       "  </tbody>\n",
       "</table>\n",
       "<p>4776 rows × 32 columns</p>\n",
       "</div>"
      ],
      "text/plain": [
       "          user_id  Surname  Gender         STATE  Age date_joined  \\\n",
       "5256       117740   Sparks  Female        Oregon   55    1/1/2017   \n",
       "9814        31590  Sanford  Female       Montana   46    1/1/2017   \n",
       "26116      100958  Parsons    Male  North Dakota   18    1/2/2017   \n",
       "26145      100958  Parsons    Male  North Dakota   18    1/2/2017   \n",
       "26161      100958  Parsons    Male  North Dakota   18    1/2/2017   \n",
       "...           ...      ...     ...           ...  ...         ...   \n",
       "30551018     5519   Daniel  Female       Georgia   78    4/1/2020   \n",
       "30551052     5519   Daniel  Female       Georgia   78    4/1/2020   \n",
       "30551127     5519   Daniel  Female       Georgia   78    4/1/2020   \n",
       "30555856   140589   Harper    Male      Maryland   26    4/1/2020   \n",
       "30558737   200065   Wilson    Male     Tennessee   59    4/1/2020   \n",
       "\n",
       "          Family Members                     Family status  Income  order_id  \\\n",
       "5256                   1                           married  292759   3369785   \n",
       "9814                   0                            single  154076    830157   \n",
       "26116                  2  living with parents and siblings  113408   2471612   \n",
       "26145                  2  living with parents and siblings  113408   2829915   \n",
       "26161                  2  living with parents and siblings  113408    277191   \n",
       "...                  ...                               ...     ...       ...   \n",
       "30551018               3                           married  262610    288789   \n",
       "30551052               3                           married  262610   1615768   \n",
       "30551127               3                           married  262610   1744232   \n",
       "30555856               0                            single  154845   1244840   \n",
       "30558737               3                           married  243617    723935   \n",
       "\n",
       "          ...     price_range_loc    Busiest days  busiest_period_of_day  \\\n",
       "5256      ...  High-range product    Busiest days            Most orders   \n",
       "9814      ...  High-range product    Busiest days            Most orders   \n",
       "26116     ...  High-range product    Busiest days            Most orders   \n",
       "26145     ...  High-range product    Busiest days            Most orders   \n",
       "26161     ...  High-range product  Regularly busy            Most orders   \n",
       "...       ...                 ...             ...                    ...   \n",
       "30551018  ...  High-range product    Slowest days            Most orders   \n",
       "30551052  ...  High-range product  Regularly busy            Most orders   \n",
       "30551127  ...  High-range product  Regularly busy            Most orders   \n",
       "30555856  ...  High-range product  Regularly busy            Most orders   \n",
       "30558737  ...  High-range product  Regularly busy            Most orders   \n",
       "\n",
       "          max_order      loyalty_flag  mean_price    price_flag  \\\n",
       "5256           85.0    Loyal customer   37.052165  High spender   \n",
       "9814           39.0  Regular customer   59.676655  High spender   \n",
       "26116           6.0      New customer  587.820779  High spender   \n",
       "26145           6.0      New customer  587.820779  High spender   \n",
       "26161           6.0      New customer  587.820779  High spender   \n",
       "...             ...               ...         ...           ...   \n",
       "30551018       54.0    Loyal customer   71.320380  High spender   \n",
       "30551052       54.0    Loyal customer   71.320380  High spender   \n",
       "30551127       54.0    Loyal customer   71.320380  High spender   \n",
       "30555856       10.0      New customer  978.420388  High spender   \n",
       "30558737       19.0  Regular customer  105.339869  High spender   \n",
       "\n",
       "          median_order_frequency order_frequency_flag  _merge  \n",
       "5256                         4.0    Frequent customer    both  \n",
       "9814                         8.0    Frequent customer    both  \n",
       "26116                       11.0     Regular customer    both  \n",
       "26145                       11.0     Regular customer    both  \n",
       "26161                       11.0     Regular customer    both  \n",
       "...                          ...                  ...     ...  \n",
       "30551018                     7.0    Frequent customer    both  \n",
       "30551052                     7.0    Frequent customer    both  \n",
       "30551127                     7.0    Frequent customer    both  \n",
       "30555856                    20.0     Regular customer    both  \n",
       "30558737                    12.0     Regular customer    both  \n",
       "\n",
       "[4776 rows x 32 columns]"
      ]
     },
     "execution_count": 67,
     "metadata": {},
     "output_type": "execute_result"
    }
   ],
   "source": [
    "ords_prods_cust.loc[ords_prods_cust['prices'] > 100]"
   ]
  },
  {
   "cell_type": "code",
   "execution_count": 72,
   "id": "20f16f88",
   "metadata": {},
   "outputs": [],
   "source": [
    "# let’s mark them as missing since they don’t make sense in terms of the other values in the column. To turn them into NaNs\n",
    "ords_prods_cust.loc[ords_prods_cust['prices'] >100, 'prices'] = np.nan"
   ]
  },
  {
   "cell_type": "code",
   "execution_count": 73,
   "id": "0caf9abd",
   "metadata": {},
   "outputs": [
    {
     "data": {
      "text/plain": [
       "25.0"
      ]
     },
     "execution_count": 73,
     "metadata": {},
     "output_type": "execute_result"
    }
   ],
   "source": [
    "ords_prods_cust['prices'].max()"
   ]
  },
  {
   "cell_type": "code",
   "execution_count": 74,
   "id": "242caef7",
   "metadata": {},
   "outputs": [
    {
     "data": {
      "image/png": "[encoded data removed]",
      "text/plain": [
       "<Figure size 432x288 with 1 Axes>"
      ]
     },
     "metadata": {
      "needs_background": "light"
     },
     "output_type": "display_data"
    }
   ],
   "source": [
    "# increase the level of granularity in the histogram\n",
    "hist_prices_without_outlier = ords_prods_cust['prices'].plot.hist(bins = 70)"
   ]
  },
  {
   "cell_type": "code",
   "execution_count": 75,
   "id": "b0969ec6",
   "metadata": {},
   "outputs": [],
   "source": [
    "# export\n",
    "hist_prices_without_outlier.figure.savefig(os.path.join(path, '04 Analysis','Visualizations', 'histogram_prices_without_outlier.png'))"
   ]
  },
  {
   "cell_type": "code",
   "execution_count": 76,
   "id": "b6f9e2f3",
   "metadata": {},
   "outputs": [],
   "source": [
    "np.random.seed(4)"
   ]
  },
  {
   "cell_type": "code",
   "execution_count": 77,
   "id": "914822ad",
   "metadata": {},
   "outputs": [],
   "source": [
    "# creating a list holding True/False values to the test np.random.rant() <= 0.7\n",
    "dev = np.random.rand(len(ords_prods_cust)) <= 0.7"
   ]
  },
  {
   "cell_type": "code",
   "execution_count": 78,
   "id": "712c8397",
   "metadata": {},
   "outputs": [
    {
     "data": {
      "text/plain": [
       "array([False,  True, False, ...,  True,  True,  True])"
      ]
     },
     "execution_count": 78,
     "metadata": {},
     "output_type": "execute_result"
    }
   ],
   "source": [
    "dev"
   ]
  },
  {
   "cell_type": "code",
   "execution_count": 79,
   "id": "f2e3d533",
   "metadata": {},
   "outputs": [
    {
     "data": {
      "text/plain": [
       "array([9.65021495e-01, 3.21055270e-01, 5.15682008e-04, 2.61067893e-01,\n",
       "       3.61849875e-01, 9.60807992e-01, 3.44509260e-01, 4.97961556e-01,\n",
       "       9.49228849e-02, 3.30600019e-01])"
      ]
     },
     "execution_count": 79,
     "metadata": {},
     "output_type": "execute_result"
    }
   ],
   "source": [
    "np.random.rand(10)"
   ]
  },
  {
   "cell_type": "code",
   "execution_count": 80,
   "id": "bf13da4e",
   "metadata": {},
   "outputs": [],
   "source": [
    "# store 70% of the sample in the dataframe big\n",
    "big = ords_prods_cust[dev]"
   ]
  },
  {
   "cell_type": "code",
   "execution_count": 81,
   "id": "2f542fdf",
   "metadata": {},
   "outputs": [],
   "source": [
    "# store 30% of the sample in the dataframe small\n",
    "small = ords_prods_cust[~dev]"
   ]
  },
  {
   "cell_type": "code",
   "execution_count": 82,
   "id": "f1b44aa3",
   "metadata": {},
   "outputs": [
    {
     "data": {
      "text/plain": [
       "30563157"
      ]
     },
     "execution_count": 82,
     "metadata": {},
     "output_type": "execute_result"
    }
   ],
   "source": [
    "len(big) + len (small)"
   ]
  },
  {
   "cell_type": "code",
   "execution_count": 99,
   "id": "35e44826",
   "metadata": {},
   "outputs": [
    {
     "data": {
      "text/plain": [
       "30563157"
      ]
     },
     "execution_count": 99,
     "metadata": {},
     "output_type": "execute_result"
    }
   ],
   "source": [
    "len(ords_prods_cust)"
   ]
  },
  {
   "cell_type": "code",
   "execution_count": 83,
   "id": "0346767f",
   "metadata": {},
   "outputs": [],
   "source": [
    "df_2 = small[['orders_day_of_week','prices']]"
   ]
  },
  {
   "cell_type": "code",
   "execution_count": 84,
   "id": "93c69b90",
   "metadata": {},
   "outputs": [
    {
     "data": {
      "image/png": "[encoded data removed]",
      "text/plain": [
       "<Figure size 432x288 with 1 Axes>"
      ]
     },
     "metadata": {
      "needs_background": "light"
     },
     "output_type": "display_data"
    }
   ],
   "source": [
    "# create line chart\n",
    "line_odw_prices = sns.lineplot(data = df_2, x = 'orders_day_of_week',y = 'prices')"
   ]
  },
  {
   "cell_type": "code",
   "execution_count": 85,
   "id": "9814ed07",
   "metadata": {},
   "outputs": [],
   "source": [
    "# export\n",
    "line_odw_prices.figure.savefig(os.path.join(path, '04 Analysis','Visualizations', 'line_odw_prices.png'))"
   ]
  },
  {
   "cell_type": "markdown",
   "id": "83e0d080",
   "metadata": {},
   "source": [
    "# 3. Task"
   ]
  },
  {
   "cell_type": "code",
   "execution_count": 86,
   "id": "da6956b9",
   "metadata": {},
   "outputs": [
    {
     "data": {
      "image/png": "[encoded data removed]",
      "text/plain": [
       "<Figure size 432x288 with 1 Axes>"
      ]
     },
     "metadata": {
      "needs_background": "light"
     },
     "output_type": "display_data"
    }
   ],
   "source": [
    "# create histogramm\n",
    "hist_order_time = ords_prods_cust['order_time'].plot.hist(bins = 24)"
   ]
  },
  {
   "cell_type": "code",
   "execution_count": 87,
   "id": "943c3342",
   "metadata": {},
   "outputs": [],
   "source": [
    "# export\n",
    "hist_order_time.figure.savefig(os.path.join(path, '04 Analysis','Visualizations', 'histogramm_order_time.png'))"
   ]
  },
  {
   "cell_type": "markdown",
   "id": "2179aefd",
   "metadata": {},
   "source": [
    "The histogram shows that the most orders are placed in the middle of the day."
   ]
  },
  {
   "cell_type": "markdown",
   "id": "cdbdf03a",
   "metadata": {},
   "source": [
    "# 4. Task"
   ]
  },
  {
   "cell_type": "code",
   "execution_count": 88,
   "id": "dcc065e6",
   "metadata": {},
   "outputs": [
    {
     "data": {
      "image/png": "[encoded data removed]",
      "text/plain": [
       "<Figure size 432x288 with 1 Axes>"
      ]
     },
     "metadata": {
      "needs_background": "light"
     },
     "output_type": "display_data"
    }
   ],
   "source": [
    "#create bar chart\n",
    "bar_loyalty_flag = ords_prods_cust['loyalty_flag'].value_counts().plot.bar()"
   ]
  },
  {
   "cell_type": "code",
   "execution_count": 89,
   "id": "d2e3e2f6",
   "metadata": {},
   "outputs": [],
   "source": [
    "# export\n",
    "bar_loyalty_flag.figure.savefig(os.path.join(path, '04 Analysis','Visualizations', 'bar_loyalty_flag.png'))"
   ]
  },
  {
   "cell_type": "markdown",
   "id": "7098c447",
   "metadata": {},
   "source": [
    "# 5. Task"
   ]
  },
  {
   "cell_type": "code",
   "execution_count": 90,
   "id": "9f0b40a9",
   "metadata": {},
   "outputs": [],
   "source": [
    "df = big[['order_time','prices']]"
   ]
  },
  {
   "cell_type": "code",
   "execution_count": 91,
   "id": "b47accd2",
   "metadata": {},
   "outputs": [
    {
     "data": {
      "image/png": "[encoded data removed]",
      "text/plain": [
       "<Figure size 432x288 with 1 Axes>"
      ]
     },
     "metadata": {
      "needs_background": "light"
     },
     "output_type": "display_data"
    }
   ],
   "source": [
    "line_order_time_prices = sns.lineplot(data = df , x = 'order_time', y = 'prices')"
   ]
  },
  {
   "cell_type": "code",
   "execution_count": 92,
   "id": "4b283fa7",
   "metadata": {},
   "outputs": [],
   "source": [
    "# export\n",
    "line_order_time_prices.figure.savefig(os.path.join(path, '04 Analysis','Visualizations', 'line_order_time_prices.png'))"
   ]
  },
  {
   "cell_type": "markdown",
   "id": "f6c9c25e",
   "metadata": {},
   "source": [
    "# 6. Task"
   ]
  },
  {
   "cell_type": "code",
   "execution_count": 93,
   "id": "c3eb2c41",
   "metadata": {},
   "outputs": [],
   "source": [
    "df3 = small[['Age', 'Family Members']]"
   ]
  },
  {
   "cell_type": "code",
   "execution_count": 94,
   "id": "8906dd9a",
   "metadata": {},
   "outputs": [
    {
     "data": {
      "image/png": "[encoded data removed]",
      "text/plain": [
       "<Figure size 432x288 with 1 Axes>"
      ]
     },
     "metadata": {
      "needs_background": "light"
     },
     "output_type": "display_data"
    }
   ],
   "source": [
    "line_age_family_members = sns.lineplot(data = df3, x = 'Age', y = 'Family Members')"
   ]
  },
  {
   "cell_type": "code",
   "execution_count": 95,
   "id": "f55a12a7",
   "metadata": {},
   "outputs": [],
   "source": [
    "# export\n",
    "line_age_family_members.figure.savefig(os.path.join(path, '04 Analysis','Visualizations', 'line_age_family_members.png'))"
   ]
  },
  {
   "cell_type": "markdown",
   "id": "6bc05ec0",
   "metadata": {},
   "source": [
    "The linechart shows the average number family members for customers who are the average age."
   ]
  },
  {
   "cell_type": "markdown",
   "id": "f268a4c9",
   "metadata": {},
   "source": [
    "# 7. Task"
   ]
  },
  {
   "cell_type": "code",
   "execution_count": 46,
   "id": "486d55c2",
   "metadata": {},
   "outputs": [],
   "source": [
    "df4 = small[['Age', 'Income']]"
   ]
  },
  {
   "cell_type": "code",
   "execution_count": 97,
   "id": "70f8e91e",
   "metadata": {},
   "outputs": [
    {
     "data": {
      "image/png": "[encoded data removed]",
      "text/plain": [
       "<Figure size 432x288 with 1 Axes>"
      ]
     },
     "metadata": {
      "needs_background": "light"
     },
     "output_type": "display_data"
    }
   ],
   "source": [
    "scatter_age_income = sns.scatterplot(data = df4, x = 'Age', y = 'Income')"
   ]
  },
  {
   "cell_type": "code",
   "execution_count": 98,
   "id": "8384754b",
   "metadata": {},
   "outputs": [],
   "source": [
    "# export\n",
    "scatter_age_income.figure.savefig(os.path.join(path, '04 Analysis','Visualizations', 'scatterplot_age_income.png'))"
   ]
  },
  {
   "cell_type": "markdown",
   "id": "3c773ffe",
   "metadata": {},
   "source": [
    "There is a slight positive correlation between purchasing power (income) and age."
   ]
  },
  {
   "cell_type": "code",
   "execution_count": null,
   "id": "aec5f4e1",
   "metadata": {},
   "outputs": [],
   "source": []
  }
 ],
 "metadata": {
  "kernelspec": {
   "display_name": "Python 3",
   "language": "python",
   "name": "python3"
  },
  "language_info": {
   "codemirror_mode": {
    "name": "ipython",
    "version": 3
   },
   "file_extension": ".py",
   "mimetype": "text/x-python",
   "name": "python",
   "nbconvert_exporter": "python",
   "pygments_lexer": "ipython3",
   "version": "3.8.8"
  }
 },
 "nbformat": 4,
 "nbformat_minor": 5
}
