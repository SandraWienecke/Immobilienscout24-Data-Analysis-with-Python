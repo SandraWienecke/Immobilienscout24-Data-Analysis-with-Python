{
 "cells": [
  {
   "cell_type": "code",
   "execution_count": 1,
   "id": "18e113a0",
   "metadata": {},
   "outputs": [],
   "source": [
    "import pandas as pd\n",
    "import numpy as np\n",
    "import seaborn as sns\n",
    "import matplotlib\n",
    "import matplotlib.pyplot as plt\n",
    "import os\n",
    "import sklearn\n",
    "from sklearn.model_selection import train_test_split \n",
    "from sklearn.linear_model import LinearRegression\n",
    "from sklearn.metrics import mean_squared_error, r2_score"
   ]
  },
  {
   "cell_type": "code",
   "execution_count": 2,
   "id": "08029211",
   "metadata": {},
   "outputs": [],
   "source": [
    "# This option ensures that the graphs you create are displayed within the notebook without the need to \"call\" them specifically.\n",
    "%matplotlib inline"
   ]
  },
  {
   "cell_type": "code",
   "execution_count": 3,
   "id": "b1a7424f",
   "metadata": {},
   "outputs": [],
   "source": [
    "path = r'C:\\Users\\s.wienecke\\Documents\\Fortbildung\\Letztes Modul'"
   ]
  },
  {
   "cell_type": "code",
   "execution_count": 4,
   "id": "658bbc45",
   "metadata": {},
   "outputs": [],
   "source": [
    "df = pd.read_csv(os.path.join(path, '02 Data', 'Prepared Data', 'immo_data_clean_6.2.csv'))"
   ]
  },
  {
   "cell_type": "markdown",
   "id": "f3925a92",
   "metadata": {},
   "source": [
    "# 2. Data cleaning"
   ]
  },
  {
   "cell_type": "code",
   "execution_count": 5,
   "id": "6bb85d49",
   "metadata": {},
   "outputs": [],
   "source": [
    "pd.set_option('display.max_columns', None)"
   ]
  },
  {
   "cell_type": "code",
   "execution_count": 6,
   "id": "cbf61d31",
   "metadata": {},
   "outputs": [
    {
     "data": {
      "text/plain": [
       "Index(['Unnamed: 0', 'Unnamed: 0.1', 'state', 'serviceCharge', 'heatingType',\n",
       "       'telekomTvOffer', 'newlyConst', 'balcony', 'picturecount', 'pricetrend',\n",
       "       'telekomUploadSpeed', 'totalRent', 'yearConstructed', 'scoutId',\n",
       "       'firingTypes', 'hasKitchen', 'cellar', 'yearConstructedRange',\n",
       "       'baseRent', 'livingSpace', 'lift', 'baseRentRange', 'typeOfFlat',\n",
       "       'postcode', 'noRooms', 'floor', 'noRoomsRange', 'garden',\n",
       "       'livingSpaceRange', 'city/county', 'city district', 'date',\n",
       "       'Picture category'],\n",
       "      dtype='object')"
      ]
     },
     "execution_count": 6,
     "metadata": {},
     "output_type": "execute_result"
    }
   ],
   "source": [
    "df.columns"
   ]
  },
  {
   "cell_type": "code",
   "execution_count": 7,
   "id": "cc44fa34",
   "metadata": {},
   "outputs": [
    {
     "data": {
      "text/html": [
       "<div>\n",
       "<style scoped>\n",
       "    .dataframe tbody tr th:only-of-type {\n",
       "        vertical-align: middle;\n",
       "    }\n",
       "\n",
       "    .dataframe tbody tr th {\n",
       "        vertical-align: top;\n",
       "    }\n",
       "\n",
       "    .dataframe thead th {\n",
       "        text-align: right;\n",
       "    }\n",
       "</style>\n",
       "<table border=\"1\" class=\"dataframe\">\n",
       "  <thead>\n",
       "    <tr style=\"text-align: right;\">\n",
       "      <th></th>\n",
       "      <th>Unnamed: 0</th>\n",
       "      <th>Unnamed: 0.1</th>\n",
       "      <th>state</th>\n",
       "      <th>serviceCharge</th>\n",
       "      <th>heatingType</th>\n",
       "      <th>telekomTvOffer</th>\n",
       "      <th>newlyConst</th>\n",
       "      <th>balcony</th>\n",
       "      <th>picturecount</th>\n",
       "      <th>pricetrend</th>\n",
       "      <th>telekomUploadSpeed</th>\n",
       "      <th>totalRent</th>\n",
       "      <th>yearConstructed</th>\n",
       "      <th>scoutId</th>\n",
       "      <th>firingTypes</th>\n",
       "      <th>hasKitchen</th>\n",
       "      <th>cellar</th>\n",
       "      <th>yearConstructedRange</th>\n",
       "      <th>baseRent</th>\n",
       "      <th>livingSpace</th>\n",
       "      <th>lift</th>\n",
       "      <th>baseRentRange</th>\n",
       "      <th>typeOfFlat</th>\n",
       "      <th>postcode</th>\n",
       "      <th>noRooms</th>\n",
       "      <th>floor</th>\n",
       "      <th>noRoomsRange</th>\n",
       "      <th>garden</th>\n",
       "      <th>livingSpaceRange</th>\n",
       "      <th>city/county</th>\n",
       "      <th>city district</th>\n",
       "      <th>date</th>\n",
       "      <th>Picture category</th>\n",
       "    </tr>\n",
       "  </thead>\n",
       "  <tbody>\n",
       "    <tr>\n",
       "      <th>0</th>\n",
       "      <td>0</td>\n",
       "      <td>0</td>\n",
       "      <td>Nordrhein_Westfalen</td>\n",
       "      <td>245.00</td>\n",
       "      <td>central_heating</td>\n",
       "      <td>ONE_YEAR_FREE</td>\n",
       "      <td>False</td>\n",
       "      <td>False</td>\n",
       "      <td>6</td>\n",
       "      <td>4.62</td>\n",
       "      <td>10.000000</td>\n",
       "      <td>840.000000</td>\n",
       "      <td>1965.0</td>\n",
       "      <td>96107057</td>\n",
       "      <td>oil</td>\n",
       "      <td>False</td>\n",
       "      <td>True</td>\n",
       "      <td>2.0</td>\n",
       "      <td>595.0</td>\n",
       "      <td>86.00</td>\n",
       "      <td>False</td>\n",
       "      <td>4</td>\n",
       "      <td>ground_floor</td>\n",
       "      <td>44269</td>\n",
       "      <td>4.0</td>\n",
       "      <td>1.000000</td>\n",
       "      <td>4</td>\n",
       "      <td>True</td>\n",
       "      <td>4</td>\n",
       "      <td>Dortmund</td>\n",
       "      <td>Schüren</td>\n",
       "      <td>May19</td>\n",
       "      <td>Least pictures</td>\n",
       "    </tr>\n",
       "    <tr>\n",
       "      <th>1</th>\n",
       "      <td>1</td>\n",
       "      <td>1</td>\n",
       "      <td>Rheinland_Pfalz</td>\n",
       "      <td>134.00</td>\n",
       "      <td>self_contained_central_heating</td>\n",
       "      <td>ONE_YEAR_FREE</td>\n",
       "      <td>False</td>\n",
       "      <td>True</td>\n",
       "      <td>8</td>\n",
       "      <td>3.47</td>\n",
       "      <td>10.000000</td>\n",
       "      <td>901.331522</td>\n",
       "      <td>1871.0</td>\n",
       "      <td>111378734</td>\n",
       "      <td>gas</td>\n",
       "      <td>False</td>\n",
       "      <td>False</td>\n",
       "      <td>1.0</td>\n",
       "      <td>800.0</td>\n",
       "      <td>89.00</td>\n",
       "      <td>False</td>\n",
       "      <td>5</td>\n",
       "      <td>ground_floor</td>\n",
       "      <td>67459</td>\n",
       "      <td>3.0</td>\n",
       "      <td>2.122405</td>\n",
       "      <td>3</td>\n",
       "      <td>False</td>\n",
       "      <td>4</td>\n",
       "      <td>Rhein_Pfalz_Kreis</td>\n",
       "      <td>Böhl_Iggelheim</td>\n",
       "      <td>May19</td>\n",
       "      <td>Least pictures</td>\n",
       "    </tr>\n",
       "    <tr>\n",
       "      <th>2</th>\n",
       "      <td>2</td>\n",
       "      <td>2</td>\n",
       "      <td>Sachsen</td>\n",
       "      <td>255.00</td>\n",
       "      <td>floor_heating</td>\n",
       "      <td>ONE_YEAR_FREE</td>\n",
       "      <td>True</td>\n",
       "      <td>True</td>\n",
       "      <td>8</td>\n",
       "      <td>2.72</td>\n",
       "      <td>2.400000</td>\n",
       "      <td>1300.000000</td>\n",
       "      <td>2019.0</td>\n",
       "      <td>113147523</td>\n",
       "      <td>NaN</td>\n",
       "      <td>False</td>\n",
       "      <td>True</td>\n",
       "      <td>9.0</td>\n",
       "      <td>965.0</td>\n",
       "      <td>83.80</td>\n",
       "      <td>True</td>\n",
       "      <td>6</td>\n",
       "      <td>apartment</td>\n",
       "      <td>1097</td>\n",
       "      <td>3.0</td>\n",
       "      <td>3.000000</td>\n",
       "      <td>3</td>\n",
       "      <td>False</td>\n",
       "      <td>4</td>\n",
       "      <td>Dresden</td>\n",
       "      <td>Äußere_Neustadt_Antonstadt</td>\n",
       "      <td>Oct19</td>\n",
       "      <td>Least pictures</td>\n",
       "    </tr>\n",
       "    <tr>\n",
       "      <th>3</th>\n",
       "      <td>3</td>\n",
       "      <td>3</td>\n",
       "      <td>Sachsen</td>\n",
       "      <td>58.15</td>\n",
       "      <td>district_heating</td>\n",
       "      <td>ONE_YEAR_FREE</td>\n",
       "      <td>False</td>\n",
       "      <td>True</td>\n",
       "      <td>9</td>\n",
       "      <td>1.53</td>\n",
       "      <td>40.000000</td>\n",
       "      <td>901.331522</td>\n",
       "      <td>1964.0</td>\n",
       "      <td>108890903</td>\n",
       "      <td>district_heating</td>\n",
       "      <td>False</td>\n",
       "      <td>False</td>\n",
       "      <td>2.0</td>\n",
       "      <td>343.0</td>\n",
       "      <td>58.15</td>\n",
       "      <td>False</td>\n",
       "      <td>2</td>\n",
       "      <td>other</td>\n",
       "      <td>9599</td>\n",
       "      <td>3.0</td>\n",
       "      <td>3.000000</td>\n",
       "      <td>3</td>\n",
       "      <td>False</td>\n",
       "      <td>2</td>\n",
       "      <td>Mittelsachsen_Kreis</td>\n",
       "      <td>Freiberg</td>\n",
       "      <td>May19</td>\n",
       "      <td>Least pictures</td>\n",
       "    </tr>\n",
       "    <tr>\n",
       "      <th>4</th>\n",
       "      <td>4</td>\n",
       "      <td>4</td>\n",
       "      <td>Bremen</td>\n",
       "      <td>138.00</td>\n",
       "      <td>self_contained_central_heating</td>\n",
       "      <td>NaN</td>\n",
       "      <td>False</td>\n",
       "      <td>True</td>\n",
       "      <td>19</td>\n",
       "      <td>2.46</td>\n",
       "      <td>28.804928</td>\n",
       "      <td>903.000000</td>\n",
       "      <td>1950.0</td>\n",
       "      <td>114751222</td>\n",
       "      <td>gas</td>\n",
       "      <td>False</td>\n",
       "      <td>False</td>\n",
       "      <td>1.0</td>\n",
       "      <td>765.0</td>\n",
       "      <td>84.97</td>\n",
       "      <td>False</td>\n",
       "      <td>5</td>\n",
       "      <td>apartment</td>\n",
       "      <td>28213</td>\n",
       "      <td>3.0</td>\n",
       "      <td>1.000000</td>\n",
       "      <td>3</td>\n",
       "      <td>False</td>\n",
       "      <td>4</td>\n",
       "      <td>Bremen</td>\n",
       "      <td>Neu_Schwachhausen</td>\n",
       "      <td>Feb20</td>\n",
       "      <td>Few pictures</td>\n",
       "    </tr>\n",
       "  </tbody>\n",
       "</table>\n",
       "</div>"
      ],
      "text/plain": [
       "   Unnamed: 0  Unnamed: 0.1                state  serviceCharge  \\\n",
       "0           0             0  Nordrhein_Westfalen         245.00   \n",
       "1           1             1      Rheinland_Pfalz         134.00   \n",
       "2           2             2              Sachsen         255.00   \n",
       "3           3             3              Sachsen          58.15   \n",
       "4           4             4               Bremen         138.00   \n",
       "\n",
       "                      heatingType telekomTvOffer  newlyConst  balcony  \\\n",
       "0                 central_heating  ONE_YEAR_FREE       False    False   \n",
       "1  self_contained_central_heating  ONE_YEAR_FREE       False     True   \n",
       "2                   floor_heating  ONE_YEAR_FREE        True     True   \n",
       "3                district_heating  ONE_YEAR_FREE       False     True   \n",
       "4  self_contained_central_heating            NaN       False     True   \n",
       "\n",
       "   picturecount  pricetrend  telekomUploadSpeed    totalRent  yearConstructed  \\\n",
       "0             6        4.62           10.000000   840.000000           1965.0   \n",
       "1             8        3.47           10.000000   901.331522           1871.0   \n",
       "2             8        2.72            2.400000  1300.000000           2019.0   \n",
       "3             9        1.53           40.000000   901.331522           1964.0   \n",
       "4            19        2.46           28.804928   903.000000           1950.0   \n",
       "\n",
       "     scoutId       firingTypes  hasKitchen  cellar  yearConstructedRange  \\\n",
       "0   96107057               oil       False    True                   2.0   \n",
       "1  111378734               gas       False   False                   1.0   \n",
       "2  113147523               NaN       False    True                   9.0   \n",
       "3  108890903  district_heating       False   False                   2.0   \n",
       "4  114751222               gas       False   False                   1.0   \n",
       "\n",
       "   baseRent  livingSpace   lift  baseRentRange    typeOfFlat  postcode  \\\n",
       "0     595.0        86.00  False              4  ground_floor     44269   \n",
       "1     800.0        89.00  False              5  ground_floor     67459   \n",
       "2     965.0        83.80   True              6     apartment      1097   \n",
       "3     343.0        58.15  False              2         other      9599   \n",
       "4     765.0        84.97  False              5     apartment     28213   \n",
       "\n",
       "   noRooms     floor  noRoomsRange  garden  livingSpaceRange  \\\n",
       "0      4.0  1.000000             4    True                 4   \n",
       "1      3.0  2.122405             3   False                 4   \n",
       "2      3.0  3.000000             3   False                 4   \n",
       "3      3.0  3.000000             3   False                 2   \n",
       "4      3.0  1.000000             3   False                 4   \n",
       "\n",
       "           city/county               city district   date Picture category  \n",
       "0             Dortmund                     Schüren  May19  Least pictures   \n",
       "1    Rhein_Pfalz_Kreis              Böhl_Iggelheim  May19  Least pictures   \n",
       "2              Dresden  Äußere_Neustadt_Antonstadt  Oct19  Least pictures   \n",
       "3  Mittelsachsen_Kreis                    Freiberg  May19  Least pictures   \n",
       "4               Bremen           Neu_Schwachhausen  Feb20     Few pictures  "
      ]
     },
     "execution_count": 7,
     "metadata": {},
     "output_type": "execute_result"
    }
   ],
   "source": [
    "df.head()"
   ]
  },
  {
   "cell_type": "code",
   "execution_count": 8,
   "id": "33f600df",
   "metadata": {},
   "outputs": [
    {
     "data": {
      "text/plain": [
       "(268850, 33)"
      ]
     },
     "execution_count": 8,
     "metadata": {},
     "output_type": "execute_result"
    }
   ],
   "source": [
    "df.shape"
   ]
  },
  {
   "cell_type": "markdown",
   "id": "dc899dc7",
   "metadata": {},
   "source": [
    "## Missing values"
   ]
  },
  {
   "cell_type": "code",
   "execution_count": 9,
   "id": "972a6d82",
   "metadata": {},
   "outputs": [
    {
     "data": {
      "text/plain": [
       "Unnamed: 0                  0\n",
       "Unnamed: 0.1                0\n",
       "state                       0\n",
       "serviceCharge               0\n",
       "heatingType             44856\n",
       "telekomTvOffer          32619\n",
       "newlyConst                  0\n",
       "balcony                     0\n",
       "picturecount                0\n",
       "pricetrend                  0\n",
       "telekomUploadSpeed          0\n",
       "totalRent                   0\n",
       "yearConstructed             0\n",
       "scoutId                     0\n",
       "firingTypes             56964\n",
       "hasKitchen                  0\n",
       "cellar                      0\n",
       "yearConstructedRange        0\n",
       "baseRent                    5\n",
       "livingSpace                 0\n",
       "lift                        0\n",
       "baseRentRange               0\n",
       "typeOfFlat              36614\n",
       "postcode                    0\n",
       "noRooms                     0\n",
       "floor                       0\n",
       "noRoomsRange                0\n",
       "garden                      0\n",
       "livingSpaceRange            0\n",
       "city/county                 0\n",
       "city district               0\n",
       "date                        0\n",
       "Picture category            0\n",
       "dtype: int64"
      ]
     },
     "execution_count": 9,
     "metadata": {},
     "output_type": "execute_result"
    }
   ],
   "source": [
    "# Check for missing values\n",
    "df.isnull().sum()"
   ]
  },
  {
   "cell_type": "code",
   "execution_count": 10,
   "id": "8f416422",
   "metadata": {},
   "outputs": [],
   "source": [
    "# dropping colums\n",
    "df2 = df.drop(columns = ['heatingType', 'telekomTvOffer', 'firingTypes', 'typeOfFlat'])"
   ]
  },
  {
   "cell_type": "code",
   "execution_count": 11,
   "id": "591fa25c",
   "metadata": {},
   "outputs": [
    {
     "data": {
      "text/plain": [
       "5"
      ]
     },
     "execution_count": 11,
     "metadata": {},
     "output_type": "execute_result"
    }
   ],
   "source": [
    "#showing total record count of missing values\n",
    "df2.isnull().sum().sum()"
   ]
  },
  {
   "cell_type": "code",
   "execution_count": 12,
   "id": "232e1274",
   "metadata": {},
   "outputs": [],
   "source": [
    "# subset of the dataframe containing only the missing values\n",
    "df_nan = df2[df2['baseRent'].isnull() == True]"
   ]
  },
  {
   "cell_type": "code",
   "execution_count": 13,
   "id": "11c3205b",
   "metadata": {},
   "outputs": [
    {
     "data": {
      "text/html": [
       "<div>\n",
       "<style scoped>\n",
       "    .dataframe tbody tr th:only-of-type {\n",
       "        vertical-align: middle;\n",
       "    }\n",
       "\n",
       "    .dataframe tbody tr th {\n",
       "        vertical-align: top;\n",
       "    }\n",
       "\n",
       "    .dataframe thead th {\n",
       "        text-align: right;\n",
       "    }\n",
       "</style>\n",
       "<table border=\"1\" class=\"dataframe\">\n",
       "  <thead>\n",
       "    <tr style=\"text-align: right;\">\n",
       "      <th></th>\n",
       "      <th>Unnamed: 0</th>\n",
       "      <th>Unnamed: 0.1</th>\n",
       "      <th>state</th>\n",
       "      <th>serviceCharge</th>\n",
       "      <th>newlyConst</th>\n",
       "      <th>balcony</th>\n",
       "      <th>picturecount</th>\n",
       "      <th>pricetrend</th>\n",
       "      <th>telekomUploadSpeed</th>\n",
       "      <th>totalRent</th>\n",
       "      <th>yearConstructed</th>\n",
       "      <th>scoutId</th>\n",
       "      <th>hasKitchen</th>\n",
       "      <th>cellar</th>\n",
       "      <th>yearConstructedRange</th>\n",
       "      <th>baseRent</th>\n",
       "      <th>livingSpace</th>\n",
       "      <th>lift</th>\n",
       "      <th>baseRentRange</th>\n",
       "      <th>postcode</th>\n",
       "      <th>noRooms</th>\n",
       "      <th>floor</th>\n",
       "      <th>noRoomsRange</th>\n",
       "      <th>garden</th>\n",
       "      <th>livingSpaceRange</th>\n",
       "      <th>city/county</th>\n",
       "      <th>city district</th>\n",
       "      <th>date</th>\n",
       "      <th>Picture category</th>\n",
       "    </tr>\n",
       "  </thead>\n",
       "  <tbody>\n",
       "    <tr>\n",
       "      <th>8406</th>\n",
       "      <td>8406</td>\n",
       "      <td>8406</td>\n",
       "      <td>Baden_Württemberg</td>\n",
       "      <td>151.206113</td>\n",
       "      <td>False</td>\n",
       "      <td>True</td>\n",
       "      <td>13</td>\n",
       "      <td>3.90</td>\n",
       "      <td>5.000000</td>\n",
       "      <td>1.234567e+06</td>\n",
       "      <td>1966.40059</td>\n",
       "      <td>107360251</td>\n",
       "      <td>True</td>\n",
       "      <td>False</td>\n",
       "      <td>3.714544</td>\n",
       "      <td>NaN</td>\n",
       "      <td>76.00</td>\n",
       "      <td>False</td>\n",
       "      <td>9</td>\n",
       "      <td>68789</td>\n",
       "      <td>4.0</td>\n",
       "      <td>2.122405</td>\n",
       "      <td>4</td>\n",
       "      <td>False</td>\n",
       "      <td>3</td>\n",
       "      <td>Rhein_Neckar_Kreis</td>\n",
       "      <td>Sankt_Leon_Rot</td>\n",
       "      <td>Sep18</td>\n",
       "      <td>Few pictures</td>\n",
       "    </tr>\n",
       "    <tr>\n",
       "      <th>16731</th>\n",
       "      <td>16731</td>\n",
       "      <td>16731</td>\n",
       "      <td>Sachsen</td>\n",
       "      <td>151.206113</td>\n",
       "      <td>False</td>\n",
       "      <td>True</td>\n",
       "      <td>1</td>\n",
       "      <td>4.07</td>\n",
       "      <td>40.000000</td>\n",
       "      <td>9.013315e+02</td>\n",
       "      <td>1966.40059</td>\n",
       "      <td>115233180</td>\n",
       "      <td>False</td>\n",
       "      <td>True</td>\n",
       "      <td>3.714544</td>\n",
       "      <td>NaN</td>\n",
       "      <td>65.72</td>\n",
       "      <td>False</td>\n",
       "      <td>9</td>\n",
       "      <td>4157</td>\n",
       "      <td>3.0</td>\n",
       "      <td>2.122405</td>\n",
       "      <td>3</td>\n",
       "      <td>False</td>\n",
       "      <td>3</td>\n",
       "      <td>Leipzig</td>\n",
       "      <td>Gohlis_Mitte</td>\n",
       "      <td>Feb20</td>\n",
       "      <td>Least pictures</td>\n",
       "    </tr>\n",
       "    <tr>\n",
       "      <th>243713</th>\n",
       "      <td>243713</td>\n",
       "      <td>243713</td>\n",
       "      <td>Nordrhein_Westfalen</td>\n",
       "      <td>25000.000000</td>\n",
       "      <td>False</td>\n",
       "      <td>True</td>\n",
       "      <td>12</td>\n",
       "      <td>3.61</td>\n",
       "      <td>40.000000</td>\n",
       "      <td>9.013315e+02</td>\n",
       "      <td>1984.00000</td>\n",
       "      <td>111426318</td>\n",
       "      <td>False</td>\n",
       "      <td>True</td>\n",
       "      <td>4.000000</td>\n",
       "      <td>NaN</td>\n",
       "      <td>14000.00</td>\n",
       "      <td>False</td>\n",
       "      <td>9</td>\n",
       "      <td>45133</td>\n",
       "      <td>3.5</td>\n",
       "      <td>1.000000</td>\n",
       "      <td>3</td>\n",
       "      <td>False</td>\n",
       "      <td>7</td>\n",
       "      <td>Essen</td>\n",
       "      <td>Bredeney</td>\n",
       "      <td>May19</td>\n",
       "      <td>Few pictures</td>\n",
       "    </tr>\n",
       "    <tr>\n",
       "      <th>260259</th>\n",
       "      <td>260259</td>\n",
       "      <td>260259</td>\n",
       "      <td>Sachsen_Anhalt</td>\n",
       "      <td>151.206113</td>\n",
       "      <td>False</td>\n",
       "      <td>False</td>\n",
       "      <td>1</td>\n",
       "      <td>2.22</td>\n",
       "      <td>28.804928</td>\n",
       "      <td>1.000000e+06</td>\n",
       "      <td>1966.40059</td>\n",
       "      <td>91194882</td>\n",
       "      <td>False</td>\n",
       "      <td>False</td>\n",
       "      <td>3.714544</td>\n",
       "      <td>NaN</td>\n",
       "      <td>10.00</td>\n",
       "      <td>False</td>\n",
       "      <td>9</td>\n",
       "      <td>39624</td>\n",
       "      <td>1.0</td>\n",
       "      <td>2.122405</td>\n",
       "      <td>1</td>\n",
       "      <td>False</td>\n",
       "      <td>1</td>\n",
       "      <td>Altmarkkreis_Salzwedel</td>\n",
       "      <td>Güssefeld</td>\n",
       "      <td>May19</td>\n",
       "      <td>Least pictures</td>\n",
       "    </tr>\n",
       "    <tr>\n",
       "      <th>264934</th>\n",
       "      <td>264934</td>\n",
       "      <td>264934</td>\n",
       "      <td>Saarland</td>\n",
       "      <td>151.206113</td>\n",
       "      <td>False</td>\n",
       "      <td>False</td>\n",
       "      <td>0</td>\n",
       "      <td>4.41</td>\n",
       "      <td>28.804928</td>\n",
       "      <td>9.013315e+02</td>\n",
       "      <td>1966.40059</td>\n",
       "      <td>113543854</td>\n",
       "      <td>False</td>\n",
       "      <td>False</td>\n",
       "      <td>3.714544</td>\n",
       "      <td>NaN</td>\n",
       "      <td>1.00</td>\n",
       "      <td>False</td>\n",
       "      <td>9</td>\n",
       "      <td>66666</td>\n",
       "      <td>1.0</td>\n",
       "      <td>2.122405</td>\n",
       "      <td>1</td>\n",
       "      <td>False</td>\n",
       "      <td>1</td>\n",
       "      <td>Merzig_Wadern_Kreis</td>\n",
       "      <td>Beckingen</td>\n",
       "      <td>Feb20</td>\n",
       "      <td>Least pictures</td>\n",
       "    </tr>\n",
       "  </tbody>\n",
       "</table>\n",
       "</div>"
      ],
      "text/plain": [
       "        Unnamed: 0  Unnamed: 0.1                state  serviceCharge  \\\n",
       "8406          8406          8406    Baden_Württemberg     151.206113   \n",
       "16731        16731         16731              Sachsen     151.206113   \n",
       "243713      243713        243713  Nordrhein_Westfalen   25000.000000   \n",
       "260259      260259        260259       Sachsen_Anhalt     151.206113   \n",
       "264934      264934        264934             Saarland     151.206113   \n",
       "\n",
       "        newlyConst  balcony  picturecount  pricetrend  telekomUploadSpeed  \\\n",
       "8406         False     True            13        3.90            5.000000   \n",
       "16731        False     True             1        4.07           40.000000   \n",
       "243713       False     True            12        3.61           40.000000   \n",
       "260259       False    False             1        2.22           28.804928   \n",
       "264934       False    False             0        4.41           28.804928   \n",
       "\n",
       "           totalRent  yearConstructed    scoutId  hasKitchen  cellar  \\\n",
       "8406    1.234567e+06       1966.40059  107360251        True   False   \n",
       "16731   9.013315e+02       1966.40059  115233180       False    True   \n",
       "243713  9.013315e+02       1984.00000  111426318       False    True   \n",
       "260259  1.000000e+06       1966.40059   91194882       False   False   \n",
       "264934  9.013315e+02       1966.40059  113543854       False   False   \n",
       "\n",
       "        yearConstructedRange  baseRent  livingSpace   lift  baseRentRange  \\\n",
       "8406                3.714544       NaN        76.00  False              9   \n",
       "16731               3.714544       NaN        65.72  False              9   \n",
       "243713              4.000000       NaN     14000.00  False              9   \n",
       "260259              3.714544       NaN        10.00  False              9   \n",
       "264934              3.714544       NaN         1.00  False              9   \n",
       "\n",
       "        postcode  noRooms     floor  noRoomsRange  garden  livingSpaceRange  \\\n",
       "8406       68789      4.0  2.122405             4   False                 3   \n",
       "16731       4157      3.0  2.122405             3   False                 3   \n",
       "243713     45133      3.5  1.000000             3   False                 7   \n",
       "260259     39624      1.0  2.122405             1   False                 1   \n",
       "264934     66666      1.0  2.122405             1   False                 1   \n",
       "\n",
       "                   city/county   city district   date Picture category  \n",
       "8406        Rhein_Neckar_Kreis  Sankt_Leon_Rot  Sep18     Few pictures  \n",
       "16731                  Leipzig    Gohlis_Mitte  Feb20  Least pictures   \n",
       "243713                   Essen        Bredeney  May19     Few pictures  \n",
       "260259  Altmarkkreis_Salzwedel       Güssefeld  May19  Least pictures   \n",
       "264934     Merzig_Wadern_Kreis       Beckingen  Feb20  Least pictures   "
      ]
     },
     "execution_count": 13,
     "metadata": {},
     "output_type": "execute_result"
    }
   ],
   "source": [
    "df_nan"
   ]
  },
  {
   "cell_type": "code",
   "execution_count": 14,
   "id": "4cacb9d4",
   "metadata": {},
   "outputs": [
    {
     "data": {
      "text/html": [
       "<div>\n",
       "<style scoped>\n",
       "    .dataframe tbody tr th:only-of-type {\n",
       "        vertical-align: middle;\n",
       "    }\n",
       "\n",
       "    .dataframe tbody tr th {\n",
       "        vertical-align: top;\n",
       "    }\n",
       "\n",
       "    .dataframe thead th {\n",
       "        text-align: right;\n",
       "    }\n",
       "</style>\n",
       "<table border=\"1\" class=\"dataframe\">\n",
       "  <thead>\n",
       "    <tr style=\"text-align: right;\">\n",
       "      <th></th>\n",
       "      <th>Unnamed: 0</th>\n",
       "      <th>Unnamed: 0.1</th>\n",
       "      <th>serviceCharge</th>\n",
       "      <th>picturecount</th>\n",
       "      <th>pricetrend</th>\n",
       "      <th>telekomUploadSpeed</th>\n",
       "      <th>totalRent</th>\n",
       "      <th>yearConstructed</th>\n",
       "      <th>scoutId</th>\n",
       "      <th>yearConstructedRange</th>\n",
       "      <th>baseRent</th>\n",
       "      <th>livingSpace</th>\n",
       "      <th>baseRentRange</th>\n",
       "      <th>postcode</th>\n",
       "      <th>noRooms</th>\n",
       "      <th>floor</th>\n",
       "      <th>noRoomsRange</th>\n",
       "      <th>livingSpaceRange</th>\n",
       "    </tr>\n",
       "  </thead>\n",
       "  <tbody>\n",
       "    <tr>\n",
       "      <th>count</th>\n",
       "      <td>268850.000000</td>\n",
       "      <td>268850.000000</td>\n",
       "      <td>268850.000000</td>\n",
       "      <td>268850.000000</td>\n",
       "      <td>268850.000000</td>\n",
       "      <td>268850.000000</td>\n",
       "      <td>2.688500e+05</td>\n",
       "      <td>268850.000000</td>\n",
       "      <td>2.688500e+05</td>\n",
       "      <td>268850.000000</td>\n",
       "      <td>268845.000000</td>\n",
       "      <td>268850.000000</td>\n",
       "      <td>268850.000000</td>\n",
       "      <td>268850.000000</td>\n",
       "      <td>268850.000000</td>\n",
       "      <td>268850.000000</td>\n",
       "      <td>268850.000000</td>\n",
       "      <td>268850.000000</td>\n",
       "    </tr>\n",
       "    <tr>\n",
       "      <th>mean</th>\n",
       "      <td>134424.500000</td>\n",
       "      <td>134424.500000</td>\n",
       "      <td>151.206113</td>\n",
       "      <td>9.791958</td>\n",
       "      <td>3.389001</td>\n",
       "      <td>28.804928</td>\n",
       "      <td>9.013315e+02</td>\n",
       "      <td>1966.400590</td>\n",
       "      <td>1.069697e+08</td>\n",
       "      <td>3.714544</td>\n",
       "      <td>647.741754</td>\n",
       "      <td>74.355548</td>\n",
       "      <td>3.765256</td>\n",
       "      <td>37283.022235</td>\n",
       "      <td>2.641261</td>\n",
       "      <td>2.122405</td>\n",
       "      <td>2.571542</td>\n",
       "      <td>3.070790</td>\n",
       "    </tr>\n",
       "    <tr>\n",
       "      <th>std</th>\n",
       "      <td>77610.454273</td>\n",
       "      <td>77610.454273</td>\n",
       "      <td>304.308647</td>\n",
       "      <td>6.408399</td>\n",
       "      <td>1.958168</td>\n",
       "      <td>15.290063</td>\n",
       "      <td>3.063151e+04</td>\n",
       "      <td>41.709858</td>\n",
       "      <td>1.250093e+07</td>\n",
       "      <td>2.430343</td>\n",
       "      <td>516.177829</td>\n",
       "      <td>254.759208</td>\n",
       "      <td>2.214357</td>\n",
       "      <td>27798.037296</td>\n",
       "      <td>2.633440</td>\n",
       "      <td>3.269730</td>\n",
       "      <td>0.937594</td>\n",
       "      <td>1.407127</td>\n",
       "    </tr>\n",
       "    <tr>\n",
       "      <th>min</th>\n",
       "      <td>0.000000</td>\n",
       "      <td>0.000000</td>\n",
       "      <td>0.000000</td>\n",
       "      <td>0.000000</td>\n",
       "      <td>-12.330000</td>\n",
       "      <td>1.000000</td>\n",
       "      <td>0.000000e+00</td>\n",
       "      <td>1000.000000</td>\n",
       "      <td>2.887174e+07</td>\n",
       "      <td>1.000000</td>\n",
       "      <td>0.000000</td>\n",
       "      <td>0.000000</td>\n",
       "      <td>1.000000</td>\n",
       "      <td>852.000000</td>\n",
       "      <td>1.000000</td>\n",
       "      <td>-1.000000</td>\n",
       "      <td>1.000000</td>\n",
       "      <td>1.000000</td>\n",
       "    </tr>\n",
       "    <tr>\n",
       "      <th>25%</th>\n",
       "      <td>67212.250000</td>\n",
       "      <td>67212.250000</td>\n",
       "      <td>96.000000</td>\n",
       "      <td>6.000000</td>\n",
       "      <td>2.000000</td>\n",
       "      <td>10.000000</td>\n",
       "      <td>4.950000e+02</td>\n",
       "      <td>1958.000000</td>\n",
       "      <td>1.066910e+08</td>\n",
       "      <td>2.000000</td>\n",
       "      <td>338.000000</td>\n",
       "      <td>54.000000</td>\n",
       "      <td>2.000000</td>\n",
       "      <td>9128.000000</td>\n",
       "      <td>2.000000</td>\n",
       "      <td>1.000000</td>\n",
       "      <td>2.000000</td>\n",
       "      <td>2.000000</td>\n",
       "    </tr>\n",
       "    <tr>\n",
       "      <th>50%</th>\n",
       "      <td>134424.500000</td>\n",
       "      <td>134424.500000</td>\n",
       "      <td>140.000000</td>\n",
       "      <td>9.000000</td>\n",
       "      <td>3.389001</td>\n",
       "      <td>40.000000</td>\n",
       "      <td>7.410000e+02</td>\n",
       "      <td>1966.400590</td>\n",
       "      <td>1.111584e+08</td>\n",
       "      <td>3.714544</td>\n",
       "      <td>490.000000</td>\n",
       "      <td>67.320000</td>\n",
       "      <td>3.000000</td>\n",
       "      <td>38667.000000</td>\n",
       "      <td>3.000000</td>\n",
       "      <td>2.000000</td>\n",
       "      <td>3.000000</td>\n",
       "      <td>3.000000</td>\n",
       "    </tr>\n",
       "    <tr>\n",
       "      <th>75%</th>\n",
       "      <td>201636.750000</td>\n",
       "      <td>201636.750000</td>\n",
       "      <td>185.000000</td>\n",
       "      <td>13.000000</td>\n",
       "      <td>4.560000</td>\n",
       "      <td>40.000000</td>\n",
       "      <td>9.013315e+02</td>\n",
       "      <td>1992.000000</td>\n",
       "      <td>1.137688e+08</td>\n",
       "      <td>5.000000</td>\n",
       "      <td>799.000000</td>\n",
       "      <td>87.000000</td>\n",
       "      <td>5.000000</td>\n",
       "      <td>57072.000000</td>\n",
       "      <td>3.000000</td>\n",
       "      <td>3.000000</td>\n",
       "      <td>3.000000</td>\n",
       "      <td>4.000000</td>\n",
       "    </tr>\n",
       "    <tr>\n",
       "      <th>max</th>\n",
       "      <td>268849.000000</td>\n",
       "      <td>268849.000000</td>\n",
       "      <td>146118.000000</td>\n",
       "      <td>121.000000</td>\n",
       "      <td>14.920000</td>\n",
       "      <td>100.000000</td>\n",
       "      <td>1.575154e+07</td>\n",
       "      <td>2090.000000</td>\n",
       "      <td>1.157117e+08</td>\n",
       "      <td>9.000000</td>\n",
       "      <td>39200.000000</td>\n",
       "      <td>111111.000000</td>\n",
       "      <td>9.000000</td>\n",
       "      <td>99998.000000</td>\n",
       "      <td>999.990000</td>\n",
       "      <td>999.000000</td>\n",
       "      <td>5.000000</td>\n",
       "      <td>7.000000</td>\n",
       "    </tr>\n",
       "  </tbody>\n",
       "</table>\n",
       "</div>"
      ],
      "text/plain": [
       "          Unnamed: 0   Unnamed: 0.1  serviceCharge   picturecount  \\\n",
       "count  268850.000000  268850.000000  268850.000000  268850.000000   \n",
       "mean   134424.500000  134424.500000     151.206113       9.791958   \n",
       "std     77610.454273   77610.454273     304.308647       6.408399   \n",
       "min         0.000000       0.000000       0.000000       0.000000   \n",
       "25%     67212.250000   67212.250000      96.000000       6.000000   \n",
       "50%    134424.500000  134424.500000     140.000000       9.000000   \n",
       "75%    201636.750000  201636.750000     185.000000      13.000000   \n",
       "max    268849.000000  268849.000000  146118.000000     121.000000   \n",
       "\n",
       "          pricetrend  telekomUploadSpeed     totalRent  yearConstructed  \\\n",
       "count  268850.000000       268850.000000  2.688500e+05    268850.000000   \n",
       "mean        3.389001           28.804928  9.013315e+02      1966.400590   \n",
       "std         1.958168           15.290063  3.063151e+04        41.709858   \n",
       "min       -12.330000            1.000000  0.000000e+00      1000.000000   \n",
       "25%         2.000000           10.000000  4.950000e+02      1958.000000   \n",
       "50%         3.389001           40.000000  7.410000e+02      1966.400590   \n",
       "75%         4.560000           40.000000  9.013315e+02      1992.000000   \n",
       "max        14.920000          100.000000  1.575154e+07      2090.000000   \n",
       "\n",
       "            scoutId  yearConstructedRange       baseRent    livingSpace  \\\n",
       "count  2.688500e+05         268850.000000  268845.000000  268850.000000   \n",
       "mean   1.069697e+08              3.714544     647.741754      74.355548   \n",
       "std    1.250093e+07              2.430343     516.177829     254.759208   \n",
       "min    2.887174e+07              1.000000       0.000000       0.000000   \n",
       "25%    1.066910e+08              2.000000     338.000000      54.000000   \n",
       "50%    1.111584e+08              3.714544     490.000000      67.320000   \n",
       "75%    1.137688e+08              5.000000     799.000000      87.000000   \n",
       "max    1.157117e+08              9.000000   39200.000000  111111.000000   \n",
       "\n",
       "       baseRentRange       postcode        noRooms          floor  \\\n",
       "count  268850.000000  268850.000000  268850.000000  268850.000000   \n",
       "mean        3.765256   37283.022235       2.641261       2.122405   \n",
       "std         2.214357   27798.037296       2.633440       3.269730   \n",
       "min         1.000000     852.000000       1.000000      -1.000000   \n",
       "25%         2.000000    9128.000000       2.000000       1.000000   \n",
       "50%         3.000000   38667.000000       3.000000       2.000000   \n",
       "75%         5.000000   57072.000000       3.000000       3.000000   \n",
       "max         9.000000   99998.000000     999.990000     999.000000   \n",
       "\n",
       "        noRoomsRange  livingSpaceRange  \n",
       "count  268850.000000     268850.000000  \n",
       "mean        2.571542          3.070790  \n",
       "std         0.937594          1.407127  \n",
       "min         1.000000          1.000000  \n",
       "25%         2.000000          2.000000  \n",
       "50%         3.000000          3.000000  \n",
       "75%         3.000000          4.000000  \n",
       "max         5.000000          7.000000  "
      ]
     },
     "execution_count": 14,
     "metadata": {},
     "output_type": "execute_result"
    }
   ],
   "source": [
    "df2.describe()"
   ]
  },
  {
   "cell_type": "code",
   "execution_count": 15,
   "id": "d5a96f58",
   "metadata": {},
   "outputs": [
    {
     "data": {
      "text/plain": [
       "Unnamed: 0              1.344245e+05\n",
       "Unnamed: 0.1            1.344245e+05\n",
       "serviceCharge           1.400000e+02\n",
       "newlyConst              0.000000e+00\n",
       "balcony                 1.000000e+00\n",
       "picturecount            9.000000e+00\n",
       "pricetrend              3.389001e+00\n",
       "telekomUploadSpeed      4.000000e+01\n",
       "totalRent               7.410000e+02\n",
       "yearConstructed         1.966401e+03\n",
       "scoutId                 1.111584e+08\n",
       "hasKitchen              0.000000e+00\n",
       "cellar                  1.000000e+00\n",
       "yearConstructedRange    3.714544e+00\n",
       "baseRent                4.900000e+02\n",
       "livingSpace             6.732000e+01\n",
       "lift                    0.000000e+00\n",
       "baseRentRange           3.000000e+00\n",
       "postcode                3.866700e+04\n",
       "noRooms                 3.000000e+00\n",
       "floor                   2.000000e+00\n",
       "noRoomsRange            3.000000e+00\n",
       "garden                  0.000000e+00\n",
       "livingSpaceRange        3.000000e+00\n",
       "dtype: float64"
      ]
     },
     "execution_count": 15,
     "metadata": {},
     "output_type": "execute_result"
    }
   ],
   "source": [
    "# median function for replacing numeric values\n",
    "df2.median()"
   ]
  },
  {
   "cell_type": "code",
   "execution_count": 16,
   "id": "77fd78d8",
   "metadata": {},
   "outputs": [],
   "source": [
    "column_median = df2.median()\n",
    "df2 = df2.fillna(column_median)"
   ]
  },
  {
   "cell_type": "code",
   "execution_count": 17,
   "id": "3147563b",
   "metadata": {},
   "outputs": [
    {
     "data": {
      "text/plain": [
       "0"
      ]
     },
     "execution_count": 17,
     "metadata": {},
     "output_type": "execute_result"
    }
   ],
   "source": [
    "#showing total record count of missing values\n",
    "df2.isnull().sum().sum()"
   ]
  },
  {
   "cell_type": "markdown",
   "id": "dc103391",
   "metadata": {},
   "source": [
    "## Duplicates check"
   ]
  },
  {
   "cell_type": "code",
   "execution_count": 18,
   "id": "d59b8959",
   "metadata": {},
   "outputs": [],
   "source": [
    "dups = df2.duplicated()"
   ]
  },
  {
   "cell_type": "code",
   "execution_count": 19,
   "id": "16389348",
   "metadata": {},
   "outputs": [
    {
     "data": {
      "text/plain": [
       "(268850,)"
      ]
     },
     "execution_count": 19,
     "metadata": {},
     "output_type": "execute_result"
    }
   ],
   "source": [
    "dups.shape "
   ]
  },
  {
   "cell_type": "markdown",
   "id": "8100621c",
   "metadata": {},
   "source": [
    "No dups"
   ]
  },
  {
   "cell_type": "markdown",
   "id": "cbe2861a",
   "metadata": {},
   "source": [
    "## Extreme values checks"
   ]
  },
  {
   "cell_type": "code",
   "execution_count": 20,
   "id": "ec47642b",
   "metadata": {},
   "outputs": [
    {
     "name": "stderr",
     "output_type": "stream",
     "text": [
      "C:\\Users\\s.wienecke\\Anaconda3\\lib\\site-packages\\seaborn\\distributions.py:2557: FutureWarning: `distplot` is a deprecated function and will be removed in a future version. Please adapt your code to use either `displot` (a figure-level function with similar flexibility) or `histplot` (an axes-level function for histograms).\n",
      "  warnings.warn(msg, FutureWarning)\n"
     ]
    },
    {
     "data": {
      "text/plain": [
       "<AxesSubplot:xlabel='baseRent', ylabel='Density'>"
      ]
     },
     "execution_count": 20,
     "metadata": {},
     "output_type": "execute_result"
    },
    {
     "data": {
      "image/png": "[encoded data removed]",
      "text/plain": [
       "<Figure size 432x288 with 1 Axes>"
      ]
     },
     "metadata": {
      "needs_background": "light"
     },
     "output_type": "display_data"
    }
   ],
   "source": [
    "# Shows extreme values\n",
    "sns.distplot(df2['baseRent'], bins=25)"
   ]
  },
  {
   "cell_type": "code",
   "execution_count": 21,
   "id": "29ef203d",
   "metadata": {},
   "outputs": [
    {
     "data": {
      "text/plain": [
       "647.7388201599427"
      ]
     },
     "execution_count": 21,
     "metadata": {},
     "output_type": "execute_result"
    }
   ],
   "source": [
    "# Check the mean\n",
    "df2['baseRent'].mean() "
   ]
  },
  {
   "cell_type": "code",
   "execution_count": 22,
   "id": "5e7a2100",
   "metadata": {},
   "outputs": [
    {
     "data": {
      "text/plain": [
       "490.0"
      ]
     },
     "execution_count": 22,
     "metadata": {},
     "output_type": "execute_result"
    }
   ],
   "source": [
    "# Check the median\n",
    "df2['baseRent'].median() "
   ]
  },
  {
   "cell_type": "code",
   "execution_count": 23,
   "id": "49253257",
   "metadata": {},
   "outputs": [
    {
     "data": {
      "text/plain": [
       "39200.0"
      ]
     },
     "execution_count": 23,
     "metadata": {},
     "output_type": "execute_result"
    }
   ],
   "source": [
    "# Check the max\n",
    "df2['baseRent'].max() "
   ]
  },
  {
   "cell_type": "markdown",
   "id": "a8c8f4b0",
   "metadata": {},
   "source": [
    "## Hypothesis"
   ]
  },
  {
   "cell_type": "markdown",
   "id": "524f343f",
   "metadata": {},
   "source": [
    "If the flat has more rooms, then the base rent will be higher."
   ]
  },
  {
   "cell_type": "markdown",
   "id": "e41dc4c4",
   "metadata": {},
   "source": [
    "# 3. Data prep for regression analysis "
   ]
  },
  {
   "cell_type": "code",
   "execution_count": 24,
   "id": "3f129efd",
   "metadata": {},
   "outputs": [
    {
     "data": {
      "image/png": "[encoded data removed]",
      "text/plain": [
       "<Figure size 432x288 with 1 Axes>"
      ]
     },
     "metadata": {
      "needs_background": "light"
     },
     "output_type": "display_data"
    }
   ],
   "source": [
    "# Create a scatterplot using matplotlib for another look at how the chosen variables plot against each other.\n",
    "\n",
    "df2.plot(x = 'noRooms', y='baseRent',style='o')\n",
    "plt.title('noRooms vs baseRent')  \n",
    "plt.xlabel('noRooms')  \n",
    "plt.ylabel('baseRent')  \n",
    "plt.show()"
   ]
  },
  {
   "cell_type": "code",
   "execution_count": 25,
   "id": "aa2df3c2",
   "metadata": {},
   "outputs": [],
   "source": [
    "# Reshape the variables into NumPy arrays and put them into separate objects.\n",
    "\n",
    "X = df2['noRooms'].values.reshape(-1,1)\n",
    "y = df2['baseRent'].values.reshape(-1,1)"
   ]
  },
  {
   "cell_type": "code",
   "execution_count": 26,
   "id": "41107e24",
   "metadata": {},
   "outputs": [
    {
     "data": {
      "text/plain": [
       "array([[4.],\n",
       "       [3.],\n",
       "       [3.],\n",
       "       ...,\n",
       "       [4.],\n",
       "       [2.],\n",
       "       [3.]])"
      ]
     },
     "execution_count": 26,
     "metadata": {},
     "output_type": "execute_result"
    }
   ],
   "source": [
    "X"
   ]
  },
  {
   "cell_type": "code",
   "execution_count": 27,
   "id": "c3df8561",
   "metadata": {},
   "outputs": [
    {
     "data": {
      "text/plain": [
       "array([[595.],\n",
       "       [800.],\n",
       "       [965.],\n",
       "       ...,\n",
       "       [650.],\n",
       "       [840.],\n",
       "       [935.]])"
      ]
     },
     "execution_count": 27,
     "metadata": {},
     "output_type": "execute_result"
    }
   ],
   "source": [
    "y"
   ]
  },
  {
   "cell_type": "code",
   "execution_count": 28,
   "id": "09d96f1d",
   "metadata": {},
   "outputs": [],
   "source": [
    "# Split data into a training set and a test set.\n",
    "X_train, X_test, y_train, y_test = train_test_split(X, y, test_size=0.3, random_state=0)"
   ]
  },
  {
   "cell_type": "markdown",
   "id": "61bdea56",
   "metadata": {},
   "source": [
    "# 4. Regression analysis"
   ]
  },
  {
   "cell_type": "code",
   "execution_count": 29,
   "id": "db91da14",
   "metadata": {},
   "outputs": [],
   "source": [
    "# Create a regression object. (fit onto the training set)\n",
    "regression = LinearRegression()"
   ]
  },
  {
   "cell_type": "code",
   "execution_count": 30,
   "id": "c39df5b0",
   "metadata": {},
   "outputs": [
    {
     "data": {
      "text/plain": [
       "LinearRegression()"
      ]
     },
     "execution_count": 30,
     "metadata": {},
     "output_type": "execute_result"
    }
   ],
   "source": [
    "# Fit the regression object onto the training set.\n",
    "regression.fit(X_train, y_train)"
   ]
  },
  {
   "cell_type": "markdown",
   "id": "932ac09a",
   "metadata": {},
   "source": [
    "##  Fit the model to the training set"
   ]
  },
  {
   "cell_type": "code",
   "execution_count": 31,
   "id": "4cd25071",
   "metadata": {},
   "outputs": [],
   "source": [
    "# Predict (This is predicting X_train!)\n",
    "y_predicted_train = regression.predict(X_train)"
   ]
  },
  {
   "cell_type": "code",
   "execution_count": 32,
   "id": "c57a7b70",
   "metadata": {},
   "outputs": [],
   "source": [
    "rmse = mean_squared_error(y_train, y_predicted_train)\n",
    "r2 = r2_score(y_train, y_predicted_train)"
   ]
  },
  {
   "cell_type": "code",
   "execution_count": 33,
   "id": "15e1d5e2",
   "metadata": {},
   "outputs": [
    {
     "name": "stdout",
     "output_type": "stream",
     "text": [
      "Slope: [[23.48617846]]\n",
      "Mean squared error:  259015.26534178233\n",
      "R2 score:  0.01965537038787113\n"
     ]
    }
   ],
   "source": [
    "print('Slope:' ,regression.coef_)\n",
    "print('Mean squared error: ', rmse)\n",
    "print('R2 score: ', r2)"
   ]
  },
  {
   "cell_type": "markdown",
   "id": "7d124d0a",
   "metadata": {},
   "source": [
    "Here we have a positive slope indicating a positive relationship (if X increases, y also increases).\n",
    "\n",
    "The MSE is very large at 259015.2653. This suggests that regression may not be the best model to represent this data and may not accurately predict the impact of the number of rooms on the base rent.\n",
    "\n",
    "R2 value is close to 0 with 0.01965537038787113, so there is very poor fit here.\n",
    "\n",
    "In summary, it's pretty clear that the model isn't performing too well."
   ]
  },
  {
   "cell_type": "code",
   "execution_count": 35,
   "id": "ec390419",
   "metadata": {},
   "outputs": [
    {
     "data": {
      "image/png": "[encoded data removed]",
      "text/plain": [
       "<Figure size 432x288 with 1 Axes>"
      ]
     },
     "metadata": {
      "needs_background": "light"
     },
     "output_type": "display_data"
    }
   ],
   "source": [
    "# Visualizing the training set results.\n",
    "\n",
    "plot_test = plt\n",
    "plot_test.scatter(X_train, y_train, color='green', s = 15)\n",
    "plot_test.plot(X_train, y_predicted_train, color='red', linewidth =3)\n",
    "plot_test.title('noRooms vs baseRent (Test set)')\n",
    "plot_test.xlabel('noRooms')\n",
    "plot_test.ylabel('baseRent')\n",
    "plot_test.show()"
   ]
  },
  {
   "cell_type": "markdown",
   "id": "efc43af9",
   "metadata": {},
   "source": [
    "We can see that the linear model represented by the red regression line does not cover the data points. In the area where the number of rooms is small, there are the most data points that indicate a higher price, which contradicts my hypothesis."
   ]
  },
  {
   "cell_type": "markdown",
   "id": "aecc5d40",
   "metadata": {},
   "source": [
    "## Create a prediction for y on the test set"
   ]
  },
  {
   "cell_type": "code",
   "execution_count": 36,
   "id": "bbcb3b6a",
   "metadata": {},
   "outputs": [],
   "source": [
    "# Predict the values of y using X.\n",
    "y_predicted = regression.predict(X_test)"
   ]
  },
  {
   "cell_type": "code",
   "execution_count": 37,
   "id": "7f90af42",
   "metadata": {},
   "outputs": [
    {
     "data": {
      "image/png": "[encoded data removed]",
      "text/plain": [
       "<Figure size 432x288 with 1 Axes>"
      ]
     },
     "metadata": {
      "needs_background": "light"
     },
     "output_type": "display_data"
    }
   ],
   "source": [
    "# Create a plot that shows the regression line from the model on the test set.\n",
    "plot_test = plt\n",
    "plot_test.scatter(X_test, y_test, color='gray', s = 15)\n",
    "plot_test.plot(X_test, y_predicted, color='red', linewidth =3)\n",
    "plot_test.title('noRooms vs baseRent (Test set)')\n",
    "plot_test.xlabel('noRooms')\n",
    "plot_test.ylabel('baseRent')\n",
    "plot_test.show()"
   ]
  },
  {
   "cell_type": "markdown",
   "id": "719ed3ca",
   "metadata": {},
   "source": [
    "We can see (here as well) that the linear model represented by the red regression line does not cover part of the data points. In the area where the number of rooms is small, there are many data points that indicate a higher price, which contradicts my hypothesis."
   ]
  },
  {
   "cell_type": "code",
   "execution_count": 38,
   "id": "51a4bdfb",
   "metadata": {},
   "outputs": [],
   "source": [
    "# Create objects that contain the model summary statistics.\n",
    "rmse = mean_squared_error(y_test, y_predicted) \n",
    "r2 = r2_score(y_test, y_predicted)"
   ]
  },
  {
   "cell_type": "code",
   "execution_count": 39,
   "id": "97f9ccdf",
   "metadata": {},
   "outputs": [
    {
     "name": "stdout",
     "output_type": "stream",
     "text": [
      "Slope: [[23.48617846]]\n",
      "Mean squared error:  262002.26061382756\n",
      "R2 score:  0.03543429483106786\n"
     ]
    }
   ],
   "source": [
    "# Print the model summary statistics for evaluation the performance of the model\n",
    "print('Slope:' ,regression.coef_)\n",
    "print('Mean squared error: ', rmse)\n",
    "print('R2 score: ', r2)"
   ]
  },
  {
   "cell_type": "markdown",
   "id": "ea519c6c",
   "metadata": {},
   "source": [
    "Here we have a positive slope indicating a positive relationship (if X increases, y also increases).\n",
    "\n",
    "The MSE is very large at 262002.26. This suggests that regression may not be the best model to represent this data and may not accurately predict the impact of the number of rooms on the base rent.\n",
    "\n",
    "R2 value is close to 0 with 0.03543429483106786, so there is poor fit here.\n",
    "\n",
    "In summary, it's pretty clear that the model isn't performing too well.\n",
    "\n",
    "--> No overfitting because there is no higher R2 value in the training data set and a lower value in the test data set."
   ]
  },
  {
   "cell_type": "code",
   "execution_count": 40,
   "id": "6174cb82",
   "metadata": {},
   "outputs": [
    {
     "data": {
      "text/plain": [
       "array([[656.18452639],\n",
       "       [679.67070485],\n",
       "       [656.18452639],\n",
       "       ...,\n",
       "       [632.69834793],\n",
       "       [656.18452639],\n",
       "       [679.67070485]])"
      ]
     },
     "execution_count": 40,
     "metadata": {},
     "output_type": "execute_result"
    }
   ],
   "source": [
    "y_predicted"
   ]
  },
  {
   "cell_type": "code",
   "execution_count": 41,
   "id": "b5fa6878",
   "metadata": {},
   "outputs": [
    {
     "data": {
      "text/html": [
       "<div>\n",
       "<style scoped>\n",
       "    .dataframe tbody tr th:only-of-type {\n",
       "        vertical-align: middle;\n",
       "    }\n",
       "\n",
       "    .dataframe tbody tr th {\n",
       "        vertical-align: top;\n",
       "    }\n",
       "\n",
       "    .dataframe thead th {\n",
       "        text-align: right;\n",
       "    }\n",
       "</style>\n",
       "<table border=\"1\" class=\"dataframe\">\n",
       "  <thead>\n",
       "    <tr style=\"text-align: right;\">\n",
       "      <th></th>\n",
       "      <th>Actual</th>\n",
       "      <th>Predicted</th>\n",
       "    </tr>\n",
       "  </thead>\n",
       "  <tbody>\n",
       "    <tr>\n",
       "      <th>0</th>\n",
       "      <td>305.00</td>\n",
       "      <td>656.184526</td>\n",
       "    </tr>\n",
       "    <tr>\n",
       "      <th>1</th>\n",
       "      <td>970.00</td>\n",
       "      <td>679.670705</td>\n",
       "    </tr>\n",
       "    <tr>\n",
       "      <th>2</th>\n",
       "      <td>1490.00</td>\n",
       "      <td>656.184526</td>\n",
       "    </tr>\n",
       "    <tr>\n",
       "      <th>3</th>\n",
       "      <td>369.49</td>\n",
       "      <td>644.441437</td>\n",
       "    </tr>\n",
       "    <tr>\n",
       "      <th>4</th>\n",
       "      <td>284.57</td>\n",
       "      <td>656.184526</td>\n",
       "    </tr>\n",
       "    <tr>\n",
       "      <th>5</th>\n",
       "      <td>302.00</td>\n",
       "      <td>656.184526</td>\n",
       "    </tr>\n",
       "    <tr>\n",
       "      <th>6</th>\n",
       "      <td>540.00</td>\n",
       "      <td>667.927616</td>\n",
       "    </tr>\n",
       "    <tr>\n",
       "      <th>7</th>\n",
       "      <td>310.00</td>\n",
       "      <td>632.698348</td>\n",
       "    </tr>\n",
       "    <tr>\n",
       "      <th>8</th>\n",
       "      <td>159.68</td>\n",
       "      <td>609.212169</td>\n",
       "    </tr>\n",
       "    <tr>\n",
       "      <th>9</th>\n",
       "      <td>415.00</td>\n",
       "      <td>632.698348</td>\n",
       "    </tr>\n",
       "    <tr>\n",
       "      <th>10</th>\n",
       "      <td>1362.00</td>\n",
       "      <td>656.184526</td>\n",
       "    </tr>\n",
       "    <tr>\n",
       "      <th>11</th>\n",
       "      <td>1050.00</td>\n",
       "      <td>703.156883</td>\n",
       "    </tr>\n",
       "    <tr>\n",
       "      <th>12</th>\n",
       "      <td>303.00</td>\n",
       "      <td>632.698348</td>\n",
       "    </tr>\n",
       "    <tr>\n",
       "      <th>13</th>\n",
       "      <td>696.00</td>\n",
       "      <td>679.670705</td>\n",
       "    </tr>\n",
       "    <tr>\n",
       "      <th>14</th>\n",
       "      <td>325.00</td>\n",
       "      <td>632.698348</td>\n",
       "    </tr>\n",
       "    <tr>\n",
       "      <th>15</th>\n",
       "      <td>1150.00</td>\n",
       "      <td>679.670705</td>\n",
       "    </tr>\n",
       "    <tr>\n",
       "      <th>16</th>\n",
       "      <td>1085.00</td>\n",
       "      <td>656.184526</td>\n",
       "    </tr>\n",
       "    <tr>\n",
       "      <th>17</th>\n",
       "      <td>555.00</td>\n",
       "      <td>632.698348</td>\n",
       "    </tr>\n",
       "    <tr>\n",
       "      <th>18</th>\n",
       "      <td>275.00</td>\n",
       "      <td>632.698348</td>\n",
       "    </tr>\n",
       "    <tr>\n",
       "      <th>19</th>\n",
       "      <td>650.00</td>\n",
       "      <td>656.184526</td>\n",
       "    </tr>\n",
       "    <tr>\n",
       "      <th>20</th>\n",
       "      <td>1038.47</td>\n",
       "      <td>656.184526</td>\n",
       "    </tr>\n",
       "    <tr>\n",
       "      <th>21</th>\n",
       "      <td>270.00</td>\n",
       "      <td>632.698348</td>\n",
       "    </tr>\n",
       "    <tr>\n",
       "      <th>22</th>\n",
       "      <td>4000.00</td>\n",
       "      <td>726.643062</td>\n",
       "    </tr>\n",
       "    <tr>\n",
       "      <th>23</th>\n",
       "      <td>470.00</td>\n",
       "      <td>656.184526</td>\n",
       "    </tr>\n",
       "    <tr>\n",
       "      <th>24</th>\n",
       "      <td>415.00</td>\n",
       "      <td>632.698348</td>\n",
       "    </tr>\n",
       "    <tr>\n",
       "      <th>25</th>\n",
       "      <td>639.40</td>\n",
       "      <td>609.212169</td>\n",
       "    </tr>\n",
       "    <tr>\n",
       "      <th>26</th>\n",
       "      <td>1150.00</td>\n",
       "      <td>679.670705</td>\n",
       "    </tr>\n",
       "    <tr>\n",
       "      <th>27</th>\n",
       "      <td>365.00</td>\n",
       "      <td>632.698348</td>\n",
       "    </tr>\n",
       "    <tr>\n",
       "      <th>28</th>\n",
       "      <td>455.00</td>\n",
       "      <td>632.698348</td>\n",
       "    </tr>\n",
       "    <tr>\n",
       "      <th>29</th>\n",
       "      <td>630.00</td>\n",
       "      <td>656.184526</td>\n",
       "    </tr>\n",
       "  </tbody>\n",
       "</table>\n",
       "</div>"
      ],
      "text/plain": [
       "     Actual   Predicted\n",
       "0    305.00  656.184526\n",
       "1    970.00  679.670705\n",
       "2   1490.00  656.184526\n",
       "3    369.49  644.441437\n",
       "4    284.57  656.184526\n",
       "5    302.00  656.184526\n",
       "6    540.00  667.927616\n",
       "7    310.00  632.698348\n",
       "8    159.68  609.212169\n",
       "9    415.00  632.698348\n",
       "10  1362.00  656.184526\n",
       "11  1050.00  703.156883\n",
       "12   303.00  632.698348\n",
       "13   696.00  679.670705\n",
       "14   325.00  632.698348\n",
       "15  1150.00  679.670705\n",
       "16  1085.00  656.184526\n",
       "17   555.00  632.698348\n",
       "18   275.00  632.698348\n",
       "19   650.00  656.184526\n",
       "20  1038.47  656.184526\n",
       "21   270.00  632.698348\n",
       "22  4000.00  726.643062\n",
       "23   470.00  656.184526\n",
       "24   415.00  632.698348\n",
       "25   639.40  609.212169\n",
       "26  1150.00  679.670705\n",
       "27   365.00  632.698348\n",
       "28   455.00  632.698348\n",
       "29   630.00  656.184526"
      ]
     },
     "execution_count": 41,
     "metadata": {},
     "output_type": "execute_result"
    }
   ],
   "source": [
    "# Create a dataframe comparing the actual and predicted values of y.\n",
    "data = pd.DataFrame({'Actual': y_test.flatten(), 'Predicted': y_predicted.flatten()})\n",
    "data.head(30)"
   ]
  },
  {
   "cell_type": "markdown",
   "id": "31028f55",
   "metadata": {},
   "source": [
    "We can see that there’s quite the difference between the actual and predicted y values. This just adds evidence to the fact that the model isn’t doing a great job of explaining the relationship between the \"Number of Rooms\" and “Base Rent” variables."
   ]
  },
  {
   "cell_type": "markdown",
   "id": "58fc0868",
   "metadata": {},
   "source": [
    "## General conclusion & Bias"
   ]
  },
  {
   "cell_type": "markdown",
   "id": "fec4ee74",
   "metadata": {},
   "source": [
    "It was possible to confirm the inaccuracy of the model here, so I can rule out my hypothesis \"If the flat has more rooms, then the base rent will be higher..As it turns out, this statement is only marginally correct. \n",
    "\n",
    "The number of rooms is a factor, but it is not the only factor in price formation. It plays a partial role when the number of rooms increases (this drives the price up linearly to some extent), but it does not play as big a role when the number of rooms is small.  "
   ]
  },
  {
   "cell_type": "markdown",
   "id": "af678785",
   "metadata": {},
   "source": [
    "There could be a bias because the dataset only contains 3 periods where the data was pulled from Immoscout. A data set with a longer time period or more than 3 time periods would possibly show a different result. Furthermore, the data set only includes the advertisements from one platform (Immoscout). This could be an additional bias."
   ]
  }
 ],
 "metadata": {
  "kernelspec": {
   "display_name": "Python 3",
   "language": "python",
   "name": "python3"
  },
  "language_info": {
   "codemirror_mode": {
    "name": "ipython",
    "version": 3
   },
   "file_extension": ".py",
   "mimetype": "text/x-python",
   "name": "python",
   "nbconvert_exporter": "python",
   "pygments_lexer": "ipython3",
   "version": "3.8.8"
  }
 },
 "nbformat": 4,
 "nbformat_minor": 5
}
